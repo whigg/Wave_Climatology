{
 "cells": [
  {
   "cell_type": "markdown",
   "metadata": {},
   "source": [
    "# Time Series analysis of phase in SWA regions for SWH and WSP "
   ]
  },
  {
   "cell_type": "markdown",
   "metadata": {},
   "source": [
    "Plot figure within jupyter notebook"
   ]
  },
  {
   "cell_type": "code",
   "execution_count": 1,
   "metadata": {},
   "outputs": [],
   "source": [
    "%matplotlib inline"
   ]
  },
  {
   "cell_type": "markdown",
   "metadata": {},
   "source": [
    "Use the sys library in order to tell the notebook to look for files within the followinf directory path: "
   ]
  },
  {
   "cell_type": "code",
   "execution_count": 2,
   "metadata": {},
   "outputs": [],
   "source": [
    "import sys\n",
    "sys.path.append('/zdata/home/lcolosi/python_functions/')"
   ]
  },
  {
   "cell_type": "markdown",
   "metadata": {},
   "source": [
    "Import all libraries and functions"
   ]
  },
  {
   "cell_type": "code",
   "execution_count": 3,
   "metadata": {},
   "outputs": [],
   "source": [
    "#libraries\n",
    "import numpy as np #contains the major of functions used for matrix arrays  \n",
    "import matplotlib.pyplot as plt # matplotlib contains functions for graphics and plot manipulation\n",
    "from netCDF4 import Dataset, num2date # netCDF4 handles netCDF files \n",
    "import glob \n",
    "import cmocean.cm as cmo\n",
    "from matplotlib import cm \n",
    "\n",
    "#my functions\n",
    "from running_mean import running_mean\n",
    "from detrend import detrend\n",
    "from unweighted_least_square_fit import least_square_fit \n",
    "from char_LSF_curve import character_LSF\n",
    "import cartopy_fig_module as cart"
   ]
  },
  {
   "cell_type": "markdown",
   "metadata": {},
   "source": [
    "Set dimensions for data of space and time which depends on the spatial orientation of the data set and the time period which the data is collected from. In addition, pick the resolution of the grid boxes which the climatologies will be computed from: "
   ]
  },
  {
   "cell_type": "code",
   "execution_count": 4,
   "metadata": {},
   "outputs": [],
   "source": [
    "nt = 8400 \n",
    "nlon, nlat = 90, 34\n",
    "nlon_i, nlat_i = 360, 133\n",
    "nlon_c, nlat_c = 1440, 529\n",
    "ngrid = 3\n",
    "month = np.arange(1,13,1)"
   ]
  },
  {
   "cell_type": "markdown",
   "metadata": {},
   "source": [
    "Set Ifremer filename and look at key variables and attributes"
   ]
  },
  {
   "cell_type": "code",
   "execution_count": 5,
   "metadata": {},
   "outputs": [
    {
     "name": "stdout",
     "output_type": "stream",
     "text": [
      "odict_keys(['lat', 'lon', 'time', 'swh', 'swhcor', 'N'])\n",
      "long_name : longitude in degrees east\n",
      "units : degrees_east\n",
      "add_offset : 0.0\n",
      "scale_factor : 0.01\n",
      "valid_range : [    0. 36000.]\n",
      "long_name : latitude in degrees north\n",
      "units : degrees_north\n",
      "add_offset : 0.0\n",
      "scale_factor : 0.01\n",
      "valid_range : [-9000.  9000.]\n",
      "long_name : time\n",
      "units : days since 1900-1-1 0:0:0\n",
      "add_offset : 0.0\n",
      "scale_factor : 1.0\n",
      "valid_range : [     0. 401767.]\n"
     ]
    }
   ],
   "source": [
    "filename_i = '/zdata/downloads/colosi_data_bk/binned_data/ifremer_p1_daily_data/bia_daily_binned_ifremer_data/all_sat_binned_swh_1992-08-23_2016-08-23.nc'\n",
    "\n",
    "#set nc variable in order to read attributes and obtained data: \n",
    "nc_i = Dataset(filename_i, 'r')\n",
    "\n",
    "#print key variables:\n",
    "print(nc_i.variables.keys())\n",
    "\n",
    "#longitude\n",
    "for at in nc_i.variables['lon'].ncattrs():\n",
    "    print(\"%s : %s\" %(at, nc_i.variables['lon'].getncattr(at)))\n",
    "\n",
    "#laitude\n",
    "for at in nc_i.variables['lat'].ncattrs():\n",
    "    print(\"%s : %s\" %(at, nc_i.variables['lat'].getncattr(at)))\n",
    "    \n",
    "#time \n",
    "for at in nc_i.variables['time'].ncattrs():\n",
    "    print(\"%s : %s\" %(at, nc_i.variables['time'].getncattr(at)))"
   ]
  },
  {
   "cell_type": "markdown",
   "metadata": {},
   "source": [
    "Call Bia's Ifremer Product 1 daily binned data from the server"
   ]
  },
  {
   "cell_type": "code",
   "execution_count": 6,
   "metadata": {},
   "outputs": [],
   "source": [
    "swh_i = nc_i.variables['swhcor'][:]\n",
    "lon_i = nc_i.variables['lon'][:]\n",
    "lat_i = nc_i.variables['lat'][:]\n",
    "time_i = num2date(nc_i.variables['time'][:], nc_i.variables['time'].units) #convert time directly into datetime format instead of integer value time\n",
    "nc_i.close()"
   ]
  },
  {
   "cell_type": "markdown",
   "metadata": {},
   "source": [
    "Restrict the time series from 1993 to 2015 for swh_cor and deresolve to 4 degree by 4 degree grid points  "
   ]
  },
  {
   "cell_type": "code",
   "execution_count": 7,
   "metadata": {},
   "outputs": [
    {
     "name": "stdout",
     "output_type": "stream",
     "text": [
      "(8400, 133, 360) (8400,)\n"
     ]
    }
   ],
   "source": [
    "#find initial and final indices: \n",
    "#create year vector: \n",
    "years = np.array([y.year for y in time_i])\n",
    "\n",
    "#creat boolean arrays and combine them: \n",
    "ind_92 = years != 1992\n",
    "ind_16 = years != 2016\n",
    "ind_time = ind_92*ind_16\n",
    "\n",
    "#use the compress function to find all indices that do not lie in 1992 or 2016 and extract slices of matirx \n",
    "#along the time axis from swh\n",
    "swh_i = np.compress(ind_time, swh_i, axis = 0)\n",
    "time_i = time_i[ind_time] \n",
    "print(swh_i.shape,time_i.shape)\n",
    "\n",
    "#initialize 3D array: \n",
    "swh_array_c = np.ma.masked_all([nt,nlat,nlon])\n",
    "\n",
    "#loop through each of the matrices in the 3D array in order to deresolve each matrix one at a time:\n",
    "for itime in range(0,nt,1):\n",
    "    \n",
    "    #call data from the 3D array \n",
    "    swh_i_day  = swh_i[itime,:,:]\n",
    "    #preform the deresolution via convolution \n",
    "    swh_deres_c = running_mean(data = swh_i_day, k_dim = [4, 4], task = 'deresolve', fill_val = 'none')\n",
    "    #Save running mean wsp into 3D array: \n",
    "    swh_array_c[itime,:,:] = swh_deres_c\n",
    "    "
   ]
  },
  {
   "cell_type": "markdown",
   "metadata": {},
   "source": [
    "Set CCMP2 filename and look at key variables and attributes"
   ]
  },
  {
   "cell_type": "code",
   "execution_count": 8,
   "metadata": {},
   "outputs": [
    {
     "name": "stdout",
     "output_type": "stream",
     "text": [
      "odict_keys(['time', 'lon', 'lat', 'wsp'])\n",
      "units : degrees east\n",
      "units : degrees north\n",
      "units : days since 1900-01-01 00:00:00\n",
      "calendar : julian\n"
     ]
    }
   ],
   "source": [
    "filename_c = sorted(glob.glob('/zdata/downloads/colosi_data_bk/binned_data/ccmpv2_wind_data/daily_binned_ccmp_v2_data/ccmp_v2_wsp_daily_binned_data_*_high_res.nc'))\n",
    "\n",
    "#set nc variable in order to read attributes and obtained data: \n",
    "nc_c = Dataset(filename_c[0], 'r')\n",
    "\n",
    "#print key variables:\n",
    "print(nc_c.variables.keys())\n",
    "\n",
    "#longitude\n",
    "for at in nc_c.variables['lon'].ncattrs():\n",
    "    print(\"%s : %s\" %(at, nc_c.variables['lon'].getncattr(at)))\n",
    "\n",
    "#laitude\n",
    "for at in nc_c.variables['lat'].ncattrs():\n",
    "    print(\"%s : %s\" %(at, nc_c.variables['lat'].getncattr(at)))\n",
    "    \n",
    "#time \n",
    "for at in nc_c.variables['time'].ncattrs():\n",
    "    print(\"%s : %s\" %(at, nc_c.variables['time'].getncattr(at)))\n"
   ]
  },
  {
   "cell_type": "markdown",
   "metadata": {},
   "source": [
    "Call each data set and append the data from one year onto the end of the previous year "
   ]
  },
  {
   "cell_type": "code",
   "execution_count": 9,
   "metadata": {},
   "outputs": [],
   "source": [
    "#initialize 3D array and counters/counter array\n",
    "wsp_c = np.ma.masked_all([nt, nlat_c, nlon_c])\n",
    "time_array = []\n",
    "i = 0\n",
    "yc = 0\n",
    "year_c = np.array([365, 365, 365, 366, 365, 365, 365, 366, 365, 365, 365, 366, 365, 365, 365, 366, 365, 365, 365, 366, 365, 365, 365])\n",
    "\n",
    "#restrict filename from 1993 to 2015: \n",
    "filename_c = filename_c[0:23]\n",
    "\n",
    "#loop through each filename to call data: \n",
    "for f in filename_c: \n",
    "    \n",
    "    #set nc variable in order to read attributes and obtained data: \n",
    "    nc_wnd = Dataset(f, 'r')\n",
    "    #call wind speed data\n",
    "    wsp = nc_wnd.variables['wsp'][:]\n",
    "    time_i = num2date(nc_wnd.variables['time'][:], nc_wnd.variables['time'].units)\n",
    "    #place the wsp and time data into the 3D arrays\n",
    "    wsp_c[i:i+year_c[yc],:,:] = wsp\n",
    "    time_array.append([time_i])\n",
    "    #year counters: \n",
    "    i +=year_c[yc]\n",
    "    yc += 1\n",
    "    "
   ]
  },
  {
   "cell_type": "markdown",
   "metadata": {},
   "source": [
    "Initialize longitude and latitude variables as well as set time as a numpy array (from a list)"
   ]
  },
  {
   "cell_type": "code",
   "execution_count": 10,
   "metadata": {},
   "outputs": [],
   "source": [
    "#initialize lon and lat \n",
    "lon_c = nc_c.variables['lon'][:]\n",
    "lat_c = nc_c.variables['lat'][:]\n",
    "\n",
    "#change time to a numpy array \n",
    "time_c = np.hstack(time_array)[0]"
   ]
  },
  {
   "cell_type": "markdown",
   "metadata": {},
   "source": [
    "Use the deresolve function to bring the resolution from 0.25 to 1 degree for the CCMP2 data set "
   ]
  },
  {
   "cell_type": "code",
   "execution_count": null,
   "metadata": {},
   "outputs": [],
   "source": [
    "#initialize 3D array: \n",
    "wsp_array_c = np.ma.masked_all([nt,nlat,nlon])\n",
    "\n",
    "#loop through each of the matrices in the 3D array in order to deresolve each matrix one at a time:\n",
    "for itime in range(0,nt,1):\n",
    "    \n",
    "    #call data from the 3D array \n",
    "    wsp_c_day  = wsp_c[itime,:,:]\n",
    "    #preform the deresolution via convolution \n",
    "    wsp_deres_c = running_mean(data = wsp_c_day, k_dim = [16, 16], task = 'deresolve', fill_val = 'none')\n",
    "    #Save running mean wsp into 3D array: \n",
    "    wsp_array_c[itime,:,:] = wsp_deres_c\n",
    "    "
   ]
  },
  {
   "cell_type": "markdown",
   "metadata": {},
   "source": [
    "#### The following are the coordinates of the grid boxes evaluated at each SWA region:\n",
    "\n",
    "1) California: \n",
    "\n",
    "    a) North California: lon_grid => range(228,234,4)\n",
    "                         lat_grid => range(98,104,4)\n",
    "                         \n",
    "    b) Southern California: lon_grid => range(232,238,4)\n",
    "                            lat_grid => range(92,100,4)\n",
    "    \n",
    "    c)Western Australia: lon_grid => range(35,41,4)\n",
    "                         lat_grid => range(104, 112,4)\n",
    "                   \n",
    "    d) South Caribbean: lon_grid => range(80,81,4)\n",
    "                        lat_grid => range(280,290,4)\n",
    "                        \n",
    "    e) North Africa: lon_grid => range(335,340,4)\n",
    "                     lat_grid => range(87,92,4)\n",
    "                     \n",
    "    f) South Africa (Nigeria) : lon_grid => range(7,12,4)\n",
    "                                lat_grid => range(32,37,4)\n",
    "                                \n",
    "    g) Central West South America : lon_grid => range(280,285,4)\n",
    "                                    lat_grid => range(30,36,4)\n",
    "                  \n",
    "    f) Arabian Sea: lon_grid => range(55,60,4)\n",
    "                    lat_grid => range(71,76,4)"
   ]
  },
  {
   "cell_type": "markdown",
   "metadata": {},
   "source": [
    "### WSP"
   ]
  },
  {
   "cell_type": "markdown",
   "metadata": {},
   "source": [
    "Plot a two year time series of one single grid point for each SWA region "
   ]
  },
  {
   "cell_type": "code",
   "execution_count": null,
   "metadata": {},
   "outputs": [],
   "source": [
    "#initialize subplot axes: \n",
    "fig, axes = plt.subplots(5, 1, figsize=(14,12))\n",
    "ax1, ax2, ax3, ax4, ax5 = axes.flatten()\n",
    "\n",
    "#initialize variables:\n",
    "time_ticks = ['Jan', 'Feb', 'Mar', 'Apr', 'May', 'Jun', 'Jul', 'Aug', 'Sep', 'Oct', 'Nov', 'Dec', \n",
    "              'Jan', 'Feb', 'Mar', 'Apr', 'May', 'Jun', 'Jul', 'Aug', 'Sep', 'Oct', 'Nov', 'Dec']\n",
    "time = np.arange(1,721,1)\n",
    "color = 'tab:blue'\n",
    "\n",
    "#Call WSP data for two years for each SWA region\n",
    "nc_ts = wsp_array_c[0:720,100,230]\n",
    "wa_ts = wsp_array_c[0:720,39,108]\n",
    "sc_ts = wsp_array_c[0:720,80,285]\n",
    "na_ts = wsp_array_c[0:720,90,338]\n",
    "sa_ts = wsp_array_c[0:720,34,10]\n",
    "cwsa_ts = wsp_array_c[0:720,33,282]\n",
    "as_ts = wsp_array_c[0:720,57,73]\n",
    "\n",
    "#detrend data:\n",
    "wsp_dt_nc = detrend(nc_ts)\n",
    "wsp_dt_wa = detrend(wa_ts)\n",
    "wsp_dt_sc = detrend(sc_ts)\n",
    "wsp_dt_na = detrend(na_ts)\n",
    "wsp_dt_sa = detrend(sa_ts)\n",
    "wsp_dt_cwsa = detrend(cwsa_ts)\n",
    "wsp_dt_as = detrend(as_ts)\n",
    "\n",
    "#compute the running mean for WSP to cut down the noise\n",
    "wsp_rm_nc = running_mean(data=wsp_dt_nc, k_dim=[4,1], task='running_mean', fill_val='mask')\n",
    "wsp_rm_wa = running_mean(data=wsp_dt_wa, k_dim=[4,1], task='running_mean', fill_val='mask')\n",
    "wsp_rm_sc = running_mean(data=wsp_dt_sc, k_dim=[4,1], task='running_mean', fill_val='mask')\n",
    "wsp_rm_na = running_mean(data=wsp_dt_na, k_dim=[4,1], task='running_mean', fill_val='mask')\n",
    "wsp_rm_sa = running_mean(data=wsp_dt_sa, k_dim=[4,1], task='running_mean', fill_val='mask')\n",
    "wsp_rm_cwsa = running_mean(data=wsp_dt_cwsa, k_dim=[4,1], task='running_mean', fill_val='mask')\n",
    "wsp_rm_as = running_mean(data=wsp_dt_as, k_dim=[4,1], task='running_mean', fill_val='mask')\n",
    "\n",
    "#compute least square fit:\n",
    "wsp_hfit_nc, x_swh_nc = least_square_fit(data = wsp_dt_nc, trend = 'sinusoidal', parameters = 3, \n",
    "                                         period = 365.25, fill_val = 'mask')\n",
    "wsp_hfit_wa, x_swh_wa = least_square_fit(data = wsp_dt_wa, trend = 'sinusoidal', parameters = 3, \n",
    "                                         period = 365.25, fill_val = 'mask')\n",
    "wsp_hfit_sc, x_swh_sc = least_square_fit(data = wsp_dt_sc, trend = 'sinusoidal', parameters = 3, \n",
    "                                         period = 365.25, fill_val = 'mask')\n",
    "wsp_hfit_na, x_swh_na = least_square_fit(data = wsp_dt_na, trend = 'sinusoidal', parameters = 3, \n",
    "                                         period = 365.25, fill_val = 'mask')\n",
    "wsp_hfit_sa, x_swh_sa = least_square_fit(data = wsp_dt_sa, trend = 'sinusoidal', parameters = 3, \n",
    "                                         period = 365.25, fill_val = 'mask')\n",
    "wsp_hfit_cwsa, x_swh_cwsa = least_square_fit(data = wsp_dt_cwsa, trend = 'sinusoidal', parameters = 3, \n",
    "                                             period = 365.25, fill_val = 'mask')\n",
    "wsp_hfit_as, x_swh_as = least_square_fit(data = wsp_dt_as, trend = 'sinusoidal', parameters = 3, \n",
    "                                         period = 365.25, fill_val = 'mask')\n",
    "\n",
    "#compute the parameters of the least square fit  \n",
    "wsp_rms, wsp_amp1, wsp_phase1_nc, wsp_amp2, wsp_phase2, wsp_cod = character_LSF(data = wsp_dt_nc, \n",
    "                                                                                model = wsp_hfit_nc, \n",
    "                                                                                x_solution = x_swh_nc, \n",
    "                                                                                trend = 'sinusoidal', \n",
    "                                                                                parameters = 3, \n",
    "                                                                                fill_val = 'mask')\n",
    "#plot regional time series\n",
    "\n",
    "############ Subplot 1 ############\n",
    "#Northern California\n",
    "ax1.plot(np.arange(1,len(wsp_rm_nc)+1), wsp_rm_nc, 'b-')\n",
    "ax1.plot(time, wsp_dt_nc, 'b-.', alpha=0.3)\n",
    "ax1.plot(time, wsp_hfit_nc, 'r', alpha=0.6 )\n",
    "#set x-axis\n",
    "ax1.set_xlim([0, 721])\n",
    "start, end = ax1.get_xlim()\n",
    "#ax1.xaxis.set_ticks(np.arange(start+1, end+1, 1))\n",
    "#hind all ticklabels except the 1st of each month \n",
    "counter = 0\n",
    "#for label in ax1.xaxis.get_ticklabels()[::1]:\n",
    "#    counter += 1\n",
    "#    if counter != 30:\n",
    "#        label.set_visible(False)\n",
    "#    elif counter == 30: \n",
    "#        counter = 0\n",
    "#ax1.set_xticklabels(time_ticks)\n",
    "#set y-axis \n",
    "ax1.set_ylabel('WSP [m]', color=color)\n",
    "ax1.set_ylim([2, 15])\n",
    "ax1.grid(color=color, linestyle='-.', linewidth=1, alpha = 0.2)\n",
    "\n",
    "############ Subplot 1 ############\n",
    "#west Australia\n",
    "ax2.plot(np.arange(1,len(wsp_rm_wa)+1), wsp_rm_wa, 'b-')\n",
    "ax2.plot(time, wsp_dt_wa, 'b-.', alpha=0.3)\n",
    "ax2.plot(time, wsp_hfit_wa, 'r', alpha=0.6 )\n",
    "#set x-axis\n",
    "ax2.set_xlim([0, 721])\n",
    "#start, end = ax2.get_xlim()\n",
    "#ax2.xaxis.set_ticks(np.arange(start+1, end+1, 1))\n",
    "#hind all ticklabels except the 1st of each month \n",
    "#counter = 0\n",
    "#for label in ax2.xaxis.get_ticklabels()[::1]:\n",
    "#    counter += 1\n",
    "#    if counter != 30:\n",
    "#        label.set_visible(False)\n",
    "#    elif counter == 30: \n",
    "#        counter = 0\n",
    "#ax2.set_xticklabels(time_ticks)\n",
    "#set y-axis \n",
    "ax2.set_ylabel('WSP [m]', color=color)\n",
    "ax2.set_ylim([2, 15])\n",
    "ax2.grid(color=color, linestyle='-.', linewidth=1, alpha = 0.2)\n",
    "\n",
    "############ Subplot 3 ############\n",
    "#Southern Caribbean\n",
    "ax3.plot(np.arange(1,len(wsp_rm_sc)+1), wsp_rm_sc, 'b-')\n",
    "ax3.plot(time, wsp_dt_sc, 'b-.', alpha=0.3)\n",
    "ax3.plot(time, wsp_hfit_sc, 'r', alpha=0.6 )\n",
    "#set x-axis\n",
    "ax3.set_xlim([0, 721])\n",
    "start, end = ax3.get_xlim()\n",
    "#ax1.xaxis.set_ticks(np.arange(start+1, end+1, 1))\n",
    "#hind all ticklabels except the 1st of each month \n",
    "counter = 0\n",
    "#for label in ax1.xaxis.get_ticklabels()[::1]:\n",
    "#    counter += 1\n",
    "#    if counter != 30:\n",
    "#        label.set_visible(False)\n",
    "#    elif counter == 30: \n",
    "#        counter = 0\n",
    "#ax1.set_xticklabels(time_ticks)\n",
    "#set y-axis \n",
    "ax3.set_ylabel('WSP [m]', color=color)\n",
    "ax3.set_ylim([2, 15])\n",
    "ax3.grid(color=color, linestyle='-.', linewidth=1, alpha = 0.2)\n",
    "\n",
    "############ Subplot 4 ############\n",
    "#North africa\n",
    "ax4.plot(np.arange(1,len(wsp_rm_na)+1), wsp_rm_na, 'b-')\n",
    "ax4.plot(time, wsp_dt_na, 'b-.', alpha=0.3)\n",
    "ax4.plot(time, wsp_hfit_na, 'r', alpha=0.6 )\n",
    "#set x-axis\n",
    "ax4.set_xlim([0, 721])\n",
    "start, end = ax4.get_xlim()\n",
    "#ax1.xaxis.set_ticks(np.arange(start+1, end+1, 1))\n",
    "#hind all ticklabels except the 1st of each month \n",
    "counter = 0\n",
    "#for label in ax1.xaxis.get_ticklabels()[::1]:\n",
    "#    counter += 1\n",
    "#    if counter != 30:\n",
    "#        label.set_visible(False)\n",
    "#    elif counter == 30: \n",
    "#        counter = 0\n",
    "#ax1.set_xticklabels(time_ticks)\n",
    "#set y-axis \n",
    "ax4.set_ylabel('WSP [m]', color=color)\n",
    "ax4.set_ylim([2, 15])\n",
    "ax4.grid(color=color, linestyle='-.', linewidth=1, alpha = 0.2)\n",
    "\n",
    "############ Subplot 5 ############\n",
    "#South africa\n",
    "ax5.plot(np.arange(1,len(wsp_rm_sa)+1), wsp_rm_sa, 'b-')\n",
    "ax5.plot(time, wsp_dt_sa, 'b-.', alpha=0.3)\n",
    "ax5.plot(time, wsp_hfit_sa, 'r', alpha=0.6 )\n",
    "#set x-axis\n",
    "ax5.set_xlim([0, 721])\n",
    "start, end = ax5.get_xlim()\n",
    "#ax1.xaxis.set_ticks(np.arange(start+1, end+1, 1))\n",
    "#hind all ticklabels except the 1st of each month \n",
    "counter = 0\n",
    "#for label in ax1.xaxis.get_ticklabels()[::1]:\n",
    "#    counter += 1\n",
    "#    if counter != 30:\n",
    "#        label.set_visible(False)\n",
    "#    elif counter == 30: \n",
    "#        counter = 0\n",
    "#ax1.set_xticklabels(time_ticks)\n",
    "#set y-axis \n",
    "ax5.set_ylabel('WSP [m]', color=color)\n",
    "ax5.set_ylim([2, 15])\n",
    "ax5.grid(color=color, linestyle='-.', linewidth=1, alpha = 0.2)\n",
    "\n",
    "\n"
   ]
  },
  {
   "cell_type": "code",
   "execution_count": null,
   "metadata": {},
   "outputs": [],
   "source": []
  },
  {
   "cell_type": "code",
   "execution_count": null,
   "metadata": {},
   "outputs": [],
   "source": []
  },
  {
   "cell_type": "code",
   "execution_count": null,
   "metadata": {},
   "outputs": [],
   "source": []
  },
  {
   "cell_type": "markdown",
   "metadata": {},
   "source": [
    "### Developmental Code"
   ]
  },
  {
   "cell_type": "code",
   "execution_count": null,
   "metadata": {},
   "outputs": [],
   "source": []
  },
  {
   "cell_type": "code",
   "execution_count": null,
   "metadata": {},
   "outputs": [],
   "source": []
  },
  {
   "cell_type": "code",
   "execution_count": null,
   "metadata": {},
   "outputs": [],
   "source": []
  },
  {
   "cell_type": "code",
   "execution_count": null,
   "metadata": {},
   "outputs": [],
   "source": [
    "character_LSF?"
   ]
  },
  {
   "cell_type": "code",
   "execution_count": null,
   "metadata": {},
   "outputs": [],
   "source": [
    "time = np.arange(1,721,1)\n",
    "print(time.shape)"
   ]
  },
  {
   "cell_type": "code",
   "execution_count": null,
   "metadata": {},
   "outputs": [],
   "source": [
    "running_mean?"
   ]
  },
  {
   "cell_type": "code",
   "execution_count": null,
   "metadata": {},
   "outputs": [],
   "source": [
    "wsp_dt_nc.shape"
   ]
  },
  {
   "cell_type": "code",
   "execution_count": null,
   "metadata": {},
   "outputs": [],
   "source": [
    "wsp_array_c.shape"
   ]
  },
  {
   "cell_type": "code",
   "execution_count": null,
   "metadata": {},
   "outputs": [],
   "source": [
    "360/7"
   ]
  },
  {
   "cell_type": "code",
   "execution_count": null,
   "metadata": {},
   "outputs": [],
   "source": [
    "133/4"
   ]
  },
  {
   "cell_type": "code",
   "execution_count": null,
   "metadata": {},
   "outputs": [],
   "source": [
    "133/3"
   ]
  },
  {
   "cell_type": "code",
   "execution_count": null,
   "metadata": {},
   "outputs": [],
   "source": [
    "133/7"
   ]
  }
 ],
 "metadata": {
  "kernelspec": {
   "display_name": "Python 3",
   "language": "python",
   "name": "python3"
  },
  "language_info": {
   "codemirror_mode": {
    "name": "ipython",
    "version": 3
   },
   "file_extension": ".py",
   "mimetype": "text/x-python",
   "name": "python",
   "nbconvert_exporter": "python",
   "pygments_lexer": "ipython3",
   "version": "3.7.3"
  }
 },
 "nbformat": 4,
 "nbformat_minor": 2
}
