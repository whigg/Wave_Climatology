{
 "cells": [
  {
   "cell_type": "markdown",
   "metadata": {},
   "source": [
    "# Ifremer product 1 altimeter swh, CCMP version 2 wsp, and WW3 modelled hs and wnd data climatologies "
   ]
  },
  {
   "cell_type": "markdown",
   "metadata": {},
   "source": [
    "Plot figure within jupyter notebook"
   ]
  },
  {
   "cell_type": "code",
   "execution_count": 1,
   "metadata": {},
   "outputs": [],
   "source": [
    "%matplotlib inline"
   ]
  },
  {
   "cell_type": "markdown",
   "metadata": {},
   "source": [
    "Use the sys library in order to tell the notebook to look for files within the followinf directory path: "
   ]
  },
  {
   "cell_type": "code",
   "execution_count": 2,
   "metadata": {},
   "outputs": [],
   "source": [
    "import sys\n",
    "sys.path.append('/zdata/home/lcolosi/python_functions/')"
   ]
  },
  {
   "cell_type": "markdown",
   "metadata": {},
   "source": [
    "Import all libraries and functions"
   ]
  },
  {
   "cell_type": "code",
   "execution_count": 3,
   "metadata": {},
   "outputs": [],
   "source": [
    "#libraries\n",
    "import numpy as np #contains the major of functions used for matrix arrays  \n",
    "import matplotlib.pyplot as plt # matplotlib contains functions for graphics and plot manipulation\n",
    "from netCDF4 import Dataset, num2date # netCDF4 handles netCDF files \n",
    "import glob \n",
    "import cmocean.cm as cmo\n",
    "from matplotlib import cm \n",
    "\n",
    "#my functions\n",
    "from running_mean import running_mean\n",
    "from unweighted_least_square_fit import least_square_fit \n",
    "from char_LSF_curve import character_LSF\n",
    "from climatology_mean import clima_mean\n",
    "from regional_clima import regional_clima\n",
    "import cartopy_fig_module as cart"
   ]
  },
  {
   "cell_type": "markdown",
   "metadata": {},
   "source": [
    "Set dimensions for data of space and time which depends on the spatial orientation of the data set and the time period which the data is collected from. In addition, pick the resolution of the grid boxes which the climatologies will be computed from: "
   ]
  },
  {
   "cell_type": "code",
   "execution_count": 4,
   "metadata": {},
   "outputs": [],
   "source": [
    "nt = 8400 \n",
    "nlon_i, nlat_i = 360, 133\n",
    "nlon_c, nlat_c = 1440, 529\n",
    "nlon_w, nlat_w = 720, 265\n",
    "ngrid = 3\n",
    "month = np.arange(1,13,1)"
   ]
  },
  {
   "cell_type": "markdown",
   "metadata": {},
   "source": [
    "Set Ifremer filename and look at key variables and attributes"
   ]
  },
  {
   "cell_type": "code",
   "execution_count": 5,
   "metadata": {},
   "outputs": [
    {
     "name": "stdout",
     "output_type": "stream",
     "text": [
      "odict_keys(['lat', 'lon', 'time', 'swh', 'swhcor', 'N'])\n",
      "long_name : longitude in degrees east\n",
      "units : degrees_east\n",
      "add_offset : 0.0\n",
      "scale_factor : 0.01\n",
      "valid_range : [    0. 36000.]\n",
      "long_name : latitude in degrees north\n",
      "units : degrees_north\n",
      "add_offset : 0.0\n",
      "scale_factor : 0.01\n",
      "valid_range : [-9000.  9000.]\n",
      "long_name : time\n",
      "units : days since 1900-1-1 0:0:0\n",
      "add_offset : 0.0\n",
      "scale_factor : 1.0\n",
      "valid_range : [     0. 401767.]\n"
     ]
    }
   ],
   "source": [
    "filename_i = '/zdata/downloads/colosi_data_bk/binned_data/ifremer_p1_daily_data/bia_daily_binned_ifremer_data/all_sat_binned_swh_1992-08-23_2016-08-23.nc'\n",
    "\n",
    "#set nc variable in order to read attributes and obtained data: \n",
    "nc_i = Dataset(filename_i, 'r')\n",
    "\n",
    "#print key variables:\n",
    "print(nc_i.variables.keys())\n",
    "\n",
    "#longitude\n",
    "for at in nc_i.variables['lon'].ncattrs():\n",
    "    print(\"%s : %s\" %(at, nc_i.variables['lon'].getncattr(at)))\n",
    "\n",
    "#laitude\n",
    "for at in nc_i.variables['lat'].ncattrs():\n",
    "    print(\"%s : %s\" %(at, nc_i.variables['lat'].getncattr(at)))\n",
    "    \n",
    "#time \n",
    "for at in nc_i.variables['time'].ncattrs():\n",
    "    print(\"%s : %s\" %(at, nc_i.variables['time'].getncattr(at)))"
   ]
  },
  {
   "cell_type": "markdown",
   "metadata": {},
   "source": [
    "Call Bia's Ifremer Product 1 daily binned data from the server"
   ]
  },
  {
   "cell_type": "code",
   "execution_count": 6,
   "metadata": {},
   "outputs": [],
   "source": [
    "swh_i = nc_i.variables['swhcor'][:]\n",
    "lon_i = nc_i.variables['lon'][:]\n",
    "lat_i = nc_i.variables['lat'][:]\n",
    "time_i = num2date(nc_i.variables['time'][:], nc_i.variables['time'].units) #convert time directly into datetime format instead of integer value time\n",
    "nc_i.close()"
   ]
  },
  {
   "cell_type": "markdown",
   "metadata": {},
   "source": [
    "Restrict the time series from 1993 to 2015 for swh_cor "
   ]
  },
  {
   "cell_type": "code",
   "execution_count": 7,
   "metadata": {},
   "outputs": [
    {
     "name": "stdout",
     "output_type": "stream",
     "text": [
      "(8400, 133, 360) (8400,)\n"
     ]
    }
   ],
   "source": [
    "#find initial and final indices: \n",
    "#create year vector: \n",
    "years = np.array([y.year for y in time_i])\n",
    "\n",
    "#creat boolean arrays and combine them: \n",
    "ind_92 = years != 1992\n",
    "ind_16 = years != 2016\n",
    "ind_time = ind_92*ind_16\n",
    "\n",
    "#use the compress function to find all indices that do not lie in 1992 or 2016 and extract slices of matirx along the time axis from swh\n",
    "swh_i = np.compress(ind_time, swh_i, axis = 0)\n",
    "time_i = time_i[ind_time] \n",
    "print(swh_i.shape,time_i.shape)"
   ]
  },
  {
   "cell_type": "markdown",
   "metadata": {},
   "source": [
    "Begin by computing the monthly averaged swh over the entire earth and extract desired variables from dictionary"
   ]
  },
  {
   "cell_type": "code",
   "execution_count": 8,
   "metadata": {},
   "outputs": [
    {
     "name": "stdout",
     "output_type": "stream",
     "text": [
      "(8400,)\n"
     ]
    }
   ],
   "source": [
    "#set year and month 2D time arrays that correspond to the year and month at \n",
    "#which swh data point was collected (time series indice array for year and month)\n",
    "months = np.array([m.month for m in time_i])\n",
    "print(time_i.shape)"
   ]
  },
  {
   "cell_type": "markdown",
   "metadata": {},
   "source": [
    "Begin by computing the monthly averaged swh over the entire earth and extract desired variables from dictionary"
   ]
  },
  {
   "cell_type": "code",
   "execution_count": 9,
   "metadata": {},
   "outputs": [],
   "source": [
    "#climatology: \n",
    "swh_clima_i = clima_mean(date_time = time_i, data = swh_i, fill_val = 'mask')\n",
    "\n",
    "#define desired variables: \n",
    "swh_mean_i = np.ma.array(swh_clima_i['mean'])\n",
    "#swh_median_i = np.ma.array(swh_climatology['median'])\n",
    "swh_std_i = np.ma.array(swh_clima_i['std'])\n",
    "swh_var_i = np.ma.array(swh_clima_i['var'])\n",
    "#swh_n_i = np.ma.array(swh_climatology['N'])"
   ]
  },
  {
   "cell_type": "markdown",
   "metadata": {},
   "source": [
    "Delete unnecessary variables in order to minimize the memory use"
   ]
  },
  {
   "cell_type": "code",
   "execution_count": 10,
   "metadata": {},
   "outputs": [],
   "source": [
    "del swh_i, time_i, swh_clima_i"
   ]
  },
  {
   "cell_type": "markdown",
   "metadata": {},
   "source": [
    "Set CCMP2 filename and look at key variables and attributes"
   ]
  },
  {
   "cell_type": "code",
   "execution_count": 11,
   "metadata": {},
   "outputs": [
    {
     "name": "stdout",
     "output_type": "stream",
     "text": [
      "odict_keys(['time', 'lon', 'lat', 'wsp'])\n",
      "units : degrees east\n",
      "units : degrees north\n",
      "units : days since 1900-01-01 00:00:00\n",
      "calendar : julian\n"
     ]
    }
   ],
   "source": [
    "filename_c = sorted(glob.glob('/zdata/downloads/colosi_data_bk/binned_data/ccmpv2_wind_data/daily_binned_ccmp_v2_data/ccmp_v2_wsp_daily_binned_data_*_high_res.nc'))\n",
    "\n",
    "#set nc variable in order to read attributes and obtained data: \n",
    "nc_c = Dataset(filename_c[0], 'r')\n",
    "\n",
    "#print key variables:\n",
    "print(nc_c.variables.keys())\n",
    "\n",
    "#longitude\n",
    "for at in nc_c.variables['lon'].ncattrs():\n",
    "    print(\"%s : %s\" %(at, nc_c.variables['lon'].getncattr(at)))\n",
    "\n",
    "#laitude\n",
    "for at in nc_c.variables['lat'].ncattrs():\n",
    "    print(\"%s : %s\" %(at, nc_c.variables['lat'].getncattr(at)))\n",
    "    \n",
    "#time \n",
    "for at in nc_c.variables['time'].ncattrs():\n",
    "    print(\"%s : %s\" %(at, nc_c.variables['time'].getncattr(at)))\n"
   ]
  },
  {
   "cell_type": "markdown",
   "metadata": {},
   "source": [
    "Call each data set and append the data from one year onto the end of the previous year "
   ]
  },
  {
   "cell_type": "code",
   "execution_count": 12,
   "metadata": {},
   "outputs": [],
   "source": [
    "#initialize 3D array and counters/counter array\n",
    "wsp_c = np.ma.masked_all([nt, nlat_c, nlon_c])\n",
    "time_array = []\n",
    "i = 0\n",
    "yc = 0\n",
    "year_c = np.array([365, 365, 365, 366, 365, 365, 365, 366, 365, 365, 365, 366, 365, 365, 365, 366, 365, 365, 365, 366, 365, 365, 365])\n",
    "\n",
    "#restrict filename from 1993 to 2015: \n",
    "filename_c = filename_c[0:23]\n",
    "\n",
    "#loop through each filename to call data: \n",
    "for f in filename_c: \n",
    "    \n",
    "    #set nc variable in order to read attributes and obtained data: \n",
    "    nc_wnd = Dataset(f, 'r')\n",
    "    #call wind speed data\n",
    "    wsp = nc_wnd.variables['wsp'][:]\n",
    "    time_i = num2date(nc_wnd.variables['time'][:], nc_wnd.variables['time'].units)\n",
    "    #place the wsp and time data into the 3D arrays\n",
    "    wsp_c[i:i+year_c[yc],:,:] = wsp\n",
    "    time_array.append([time_i])\n",
    "    #year counters: \n",
    "    i +=year_c[yc]\n",
    "    yc += 1\n",
    "    "
   ]
  },
  {
   "cell_type": "markdown",
   "metadata": {},
   "source": [
    "Initialize longitude and latitude variables as well as set time as a numpy array (from a list)"
   ]
  },
  {
   "cell_type": "code",
   "execution_count": 13,
   "metadata": {},
   "outputs": [],
   "source": [
    "#initialize lon and lat \n",
    "lon_c = nc_c.variables['lon'][:]\n",
    "lat_c = nc_c.variables['lat'][:]\n",
    "\n",
    "#change time to a numpy array \n",
    "time_c = np.hstack(time_array)[0]"
   ]
  },
  {
   "cell_type": "markdown",
   "metadata": {},
   "source": [
    "Use the deresolve function to bring the resolution from 0.25 to 1 degree for the CCMP2 data set "
   ]
  },
  {
   "cell_type": "code",
   "execution_count": 14,
   "metadata": {},
   "outputs": [],
   "source": [
    "#initialize 3D array: \n",
    "wsp_array_c = np.ma.masked_all([nt,nlat_i,nlon_i])\n",
    "\n",
    "#loop through each of the matrices in the 3D array in order to deresolve each matrix one at a time:\n",
    "for itime in range(0,nt,1):\n",
    "    \n",
    "    #call data from the 3D array \n",
    "    wsp_c_day  = wsp_c[itime,:,:]\n",
    "    #preform the deresolution via convolution \n",
    "    wsp_deres_c = running_mean(data = wsp_c_day, k_dim = [4, 4], task = 'deresolve', fill_val = 'none')\n",
    "    #Save running mean wsp into 3D array: \n",
    "    wsp_array_c[itime,:,:] = wsp_deres_c\n",
    "    "
   ]
  },
  {
   "cell_type": "markdown",
   "metadata": {},
   "source": [
    "Begin by computing the monthly averaged swh over the entire earth and extract desired variables from dictionary"
   ]
  },
  {
   "cell_type": "code",
   "execution_count": 15,
   "metadata": {},
   "outputs": [],
   "source": [
    "#compute climatology\n",
    "wsp_clima_c = clima_mean(date_time = time_c, data = wsp_array_c, fill_val = 'mask')"
   ]
  },
  {
   "cell_type": "code",
   "execution_count": 16,
   "metadata": {},
   "outputs": [],
   "source": [
    "#define desired variables \n",
    "wsp_mean_c = np.ma.array(wsp_clima_c['mean'])\n",
    "#wsp_median_c = np.ma.array(wsp_climatology['median'])\n",
    "wsp_std_c = np.ma.array(wsp_clima_c['std'])\n",
    "wsp_var_c = np.ma.array(wsp_clima_c['var'])\n",
    "#wsp_n_c = np.ma.array(wsp_climatology['N'])"
   ]
  },
  {
   "cell_type": "markdown",
   "metadata": {},
   "source": [
    "Delete unnecessary variables in order to minimize the memory use"
   ]
  },
  {
   "cell_type": "code",
   "execution_count": 17,
   "metadata": {},
   "outputs": [],
   "source": [
    "del wsp_array_c, wsp_c, time_c, wsp_clima_c"
   ]
  },
  {
   "cell_type": "markdown",
   "metadata": {},
   "source": [
    "Set WW3 filename and look at key variables and attributes"
   ]
  },
  {
   "cell_type": "code",
   "execution_count": 18,
   "metadata": {},
   "outputs": [
    {
     "name": "stdout",
     "output_type": "stream",
     "text": [
      "odict_keys(['time', 'lon', 'lat', 'swh'])\n",
      "odict_keys(['time', 'lon', 'lat', 'wsp'])\n",
      "units : degrees east\n",
      "units : degrees north\n",
      "units : days since 1990-01-01 00:00:00\n",
      "calendar : julian\n"
     ]
    }
   ],
   "source": [
    "filename_hs_w = '/zdata/downloads/colosi_data_bk/binned_data/WW3/CFSR/lc_binned_data/ww3_hs_daily_binned_data_93_16.nc'\n",
    "filename_wnd_w = '/zdata/downloads/colosi_data_bk/binned_data/WW3/CFSR/lc_binned_data/ww3_wnd_daily_binned_data_93_16.nc'\n",
    "\n",
    "#set nc variable in order to read attributes and obtained data: \n",
    "nc_hs_w = Dataset(filename_hs_w, 'r')\n",
    "nc_wnd_w = Dataset(filename_wnd_w, 'r')\n",
    "\n",
    "\n",
    "#print key variables:\n",
    "print(nc_hs_w.variables.keys())\n",
    "print(nc_wnd_w.variables.keys())\n",
    "\n",
    "#longitude\n",
    "for at in nc_hs_w.variables['lon'].ncattrs():\n",
    "    print(\"%s : %s\" %(at, nc_hs_w.variables['lon'].getncattr(at)))\n",
    "\n",
    "#laitude\n",
    "for at in nc_hs_w.variables['lat'].ncattrs():\n",
    "    print(\"%s : %s\" %(at, nc_hs_w.variables['lat'].getncattr(at)))\n",
    "    \n",
    "#time \n",
    "for at in nc_hs_w.variables['time'].ncattrs():\n",
    "    print(\"%s : %s\" %(at, nc_hs_w.variables['time'].getncattr(at)))"
   ]
  },
  {
   "cell_type": "markdown",
   "metadata": {},
   "source": [
    "Call Hs and WSP data from WW3 netcdf files "
   ]
  },
  {
   "cell_type": "code",
   "execution_count": 19,
   "metadata": {},
   "outputs": [
    {
     "data": {
      "text/plain": [
       "<function Dataset.close>"
      ]
     },
     "execution_count": 19,
     "metadata": {},
     "output_type": "execute_result"
    }
   ],
   "source": [
    "swh_w = nc_hs_w.variables['swh'][:]\n",
    "wsp_w = nc_wnd_w.variables['wsp'][:]\n",
    "lat_w = nc_hs_w.variables['lat'][:]\n",
    "lon_w = nc_hs_w.variables['lon'][:]\n",
    "time_w = num2date(nc_hs_w.variables['time'][:], nc_hs_w.variables['time'].units)\n",
    "nc_hs_w.close"
   ]
  },
  {
   "cell_type": "markdown",
   "metadata": {},
   "source": [
    "Use the deresolve function to bring the resolution from 0.5 to 1 degree for the WW3 data set "
   ]
  },
  {
   "cell_type": "code",
   "execution_count": 20,
   "metadata": {},
   "outputs": [],
   "source": [
    "#initialize 3D array: \n",
    "swh_array_w = np.ma.masked_all([nt,nlat_i,nlon_i])\n",
    "wsp_array_w = np.ma.masked_all([nt,nlat_i,nlon_i])\n",
    "\n",
    "#loop through each of the matrices in the 3D array in order to deresolve each matrix one at a time:\n",
    "for itime in range(0,nt,1):\n",
    "    \n",
    "    #call data from the 3D array \n",
    "    swh_w_day = swh_w[itime,:,:]\n",
    "    wsp_w_day  = wsp_w[itime,:,:]\n",
    "    #preform the deresolution via convolution \n",
    "    swh_deres_w = running_mean(data = swh_w_day, k_dim = [2, 2], task = 'deresolve', fill_val = 'mask')\n",
    "    wsp_deres_w = running_mean(data = wsp_w_day, k_dim = [2, 2], task = 'deresolve', fill_val = 'mask')\n",
    "    #Save running mean wsp into 3D array: \n",
    "    swh_array_w[itime,:,:] = swh_deres_w\n",
    "    wsp_array_w[itime,:,:] = wsp_deres_w\n",
    "    "
   ]
  },
  {
   "cell_type": "markdown",
   "metadata": {},
   "source": [
    "Call data only from January 1st, 1993 to December 31st, 2015 "
   ]
  },
  {
   "cell_type": "code",
   "execution_count": 21,
   "metadata": {},
   "outputs": [
    {
     "name": "stdout",
     "output_type": "stream",
     "text": [
      "(8400, 133, 360) (8400, 133, 360)\n"
     ]
    }
   ],
   "source": [
    "#find initial and final indices: \n",
    "#create year vector: \n",
    "years = np.array([y.year for y in time_w])\n",
    "\n",
    "#creat boolean arrays and combine them: \n",
    "ind_time = years != 2016\n",
    "\n",
    "#use the compress function to find all indices that do not lie in 1992 or 2016 and extract slices of matrix along the time axis from swh\n",
    "swh_array_w = np.compress(ind_time, swh_array_w, axis = 0)\n",
    "wsp_array_w = np.compress(ind_time, wsp_array_w, axis = 0)\n",
    "print(swh_array_w.shape,wsp_array_w.shape)\n",
    "\n",
    "#extract the time steps: \n",
    "time_w = time_w[ind_time]"
   ]
  },
  {
   "cell_type": "markdown",
   "metadata": {},
   "source": [
    "Begin by computing the monthly averaged swh over the entire earth"
   ]
  },
  {
   "cell_type": "code",
   "execution_count": 22,
   "metadata": {},
   "outputs": [],
   "source": [
    "swh_clima_w = clima_mean(date_time = time_w, data = swh_array_w, fill_val = 'mask')\n",
    "wsp_clima_w = clima_mean(date_time = time_w, data = wsp_array_w, fill_val = 'mask')"
   ]
  },
  {
   "cell_type": "markdown",
   "metadata": {},
   "source": [
    "Set the variables to each of the dictionary entires "
   ]
  },
  {
   "cell_type": "code",
   "execution_count": 23,
   "metadata": {},
   "outputs": [],
   "source": [
    "#WW3 swh: \n",
    "swh_mean_w = np.ma.array(swh_clima_w['mean'])\n",
    "#swh_median_w = np.ma.array(swh_clima_w['median'])\n",
    "swh_std_w = np.ma.array(swh_clima_w['std'])\n",
    "swh_var_w = np.ma.array(swh_clima_w['var'])\n",
    "#swh_n_w = np.ma.array(swh_clima_w['N'])\n",
    "\n",
    "#WW3 wsp\n",
    "wsp_mean_w = np.ma.array(wsp_clima_w['mean'])\n",
    "#wsp_median_w = np.ma.array(wsp_clima_w['median'])\n",
    "wsp_std_w = np.ma.array(wsp_clima_w['std'])\n",
    "wsp_var_w = np.ma.array(wsp_clima_w['var'])\n",
    "#wsp_n_w = np.ma.array(wsp_clima_w['N'])"
   ]
  },
  {
   "cell_type": "markdown",
   "metadata": {},
   "source": [
    "Delete unnecessary variable"
   ]
  },
  {
   "cell_type": "code",
   "execution_count": 24,
   "metadata": {},
   "outputs": [],
   "source": [
    "del swh_array_w, wsp_array_w, swh_w, wsp_w, swh_clima_w, wsp_clima_w"
   ]
  },
  {
   "cell_type": "markdown",
   "metadata": {},
   "source": [
    "Convert the standard deviation to variance "
   ]
  },
  {
   "cell_type": "code",
   "execution_count": 25,
   "metadata": {},
   "outputs": [
    {
     "name": "stdout",
     "output_type": "stream",
     "text": [
      "True\n",
      "True\n",
      "True\n",
      "True\n"
     ]
    }
   ],
   "source": [
    "swh_var_test_i = (swh_std_i)**2\n",
    "wsp_var_test_c = (wsp_std_c)**2\n",
    "swh_var_test_w = (swh_std_w)**2\n",
    "wsp_var_test_w = (wsp_std_w)**2\n",
    "\n",
    "#compare to other variance calculation:\n",
    "print(np.any(swh_var_test_i == swh_var_i))\n",
    "print(np.any(wsp_var_test_c == wsp_var_c))\n",
    "print(np.any(swh_var_test_w == swh_var_w))\n",
    "print(np.any(wsp_var_test_w == wsp_var_w))"
   ]
  },
  {
   "cell_type": "markdown",
   "metadata": {},
   "source": [
    "Set the dimensions of the subplot figure and whether the EBR is in the southern or northern hemisphere"
   ]
  },
  {
   "cell_type": "code",
   "execution_count": 31,
   "metadata": {},
   "outputs": [],
   "source": [
    "n_row = 2\n",
    "n_coln = 2\n",
    "location = ['SH', 'east']\n",
    "ngrid = 4"
   ]
  },
  {
   "cell_type": "markdown",
   "metadata": {},
   "source": [
    "#### The following are the coordinates of the grid boxes evaluated at each EBR:\n",
    "\n",
    "1) California: \n",
    "\n",
    "    a) North California: lon_grid => range(228,234,4)\n",
    "                         lat_grid => range(98,104,4)\n",
    "                         \n",
    "    b) Southern California: lon_grid => range(232,238,4)\n",
    "                            lat_grid => range(92,100,4)\n",
    "    \n",
    "    c)Western Australia: lon_grid => range(35,41,4)\n",
    "                         lat_grid => range(104, 112,4)\n",
    "                   \n",
    "    d) South Caribbean: lon_grid => range(80,81,4)\n",
    "                        lat_grid => range(280,290,4)\n",
    "                        \n",
    "    e) North Africa: lon_grid => range(335,340,4)\n",
    "                     lat_grid => range(87,92,4)\n",
    "                     \n",
    "    f) South Africa (Nigeria) : lon_grid => range(7,12,4)\n",
    "                                lat_grid => range(32,37,4)\n",
    "                                \n",
    "    g) Central West South America : lon_grid => range(280,285,4)\n",
    "                                    lat_grid => range(30,36,4)\n",
    "                  \n",
    "    f) Arabian Sea: lon_grid => range(55,60,4)\n",
    "                    lat_grid => range(71,76,4)"
   ]
  },
  {
   "cell_type": "code",
   "execution_count": 27,
   "metadata": {},
   "outputs": [],
   "source": [
    "def regional_clima(data_mean, data_var, lon, lat, lon_grid, lat_grid, ngrid, dof, loc):\n",
    "\n",
    "    \"\"\"\n",
    "    regional_clima(data_mean, data_var, lon, lat, lon_gird, lat_grid, ngrid, dof, loc)\n",
    "    \n",
    "        Function to compute the regional climatology from seasonally averaged data with its variance over the time period for a specified sized grid and location on earth\n",
    "        \n",
    "        Parameters \n",
    "        ----------\n",
    "        data_mean : Seasonally averaged data with the following dimensions in 2D masked geospatial arrays:\n",
    "                      e.g : data_mean.shape = (ntime, nlat, nlon) = (4, 133, 360)\n",
    "                    Seasons are defined as: \n",
    "                      Winter = DJF\n",
    "                      Spring = MAM\n",
    "                      Summer = JJA\n",
    "                      Fall = SON\n",
    "        date_var : Seasonally averaged data's variance with the following dimensions in 2D masked geospatial arrays:\n",
    "                      e.g : data_var.shape = (ntime, nlat, nlon) = (4, 133, 360)\n",
    "        lon : longitude vector \n",
    "                e.g. : lon = np.arange(0, 360, 1)\n",
    "        lat : latitude vector \n",
    "                e.g. : lon = np.arange(-66, 66, 1)\n",
    "        lon_grid : initial longitude grid point to compute the regional climatology \n",
    "                     e.g. : lon_grid = 230\n",
    "        lat_grid : initial latitude grid point to compute the regional climatology\n",
    "                     e.g. : lon_grid = 230\n",
    "        ngrid : The step amount of grid point that the regional climatology will average over \n",
    "                  e.g. : n_grid = 2\n",
    "        dof : degrees of freedom (used to compute standard deviation of the mean) \n",
    "               e.g. : dof = 23\n",
    "        loc : specifies if the regional climatology is in the northern or southern hemisphere or if it is east or west of the prime meridinal. \n",
    "               e.g : loc = [loc_lat, loc_lon] loc[0] = 'NH' or loc[0] = 'SH' and loc[1] = 'west' or loc[1] = 'east'\n",
    "        \n",
    "        Returns\n",
    "        -------\n",
    "        \n",
    "        data_reg_mean : regional climatology averaged data \n",
    "                         e.g. data_reg_mean.shape = (1,12)\n",
    "        data_reg_stdm : regional climatology averaged data's standard deviation of the mean\n",
    "                         e.g. data_reg_stdm.shape = (1,12)\n",
    "        hfit : least square fit model from a 5 parameter model (mean, annual cycle, semi-annual cycle)\n",
    "        residual : model - data \n",
    "        grid_coordinates : indices from longitude and latitude which the climatology is computed for\n",
    "        \n",
    "        Libraries necessary to run function\n",
    "        -----------------------------------\n",
    "        import numpy as np\n",
    "        from unweighted_least_square_fit import least_square_fit \n",
    "    \n",
    "    \n",
    "    \"\"\"\n",
    "\n",
    "    #import libraries\n",
    "    import numpy as np\n",
    "    from unweighted_least_square_fit import least_square_fit\n",
    "\n",
    "    #case 1: west of prime meridian\n",
    "    if loc[1] == 'west':\n",
    "        loc_lon = 360\n",
    "    #case 2: east of prime meridian\n",
    "    elif loc[1] == 'east':\n",
    "        loc_lon = 0\n",
    "\n",
    "    #latitude and longitude grid points that will be averaged over: \n",
    "    lat_grid_i = lat[lat_grid]\n",
    "    lat_grid_f = lat[lat_grid+ngrid-1]\n",
    "    lon_grid_i = lon[lon_grid]-loc_lon\n",
    "    lon_grid_f = lon[lon_grid+ngrid-1]-loc_lon\n",
    "    grid_cor = [lat_grid_i, lat_grid_f, lon_grid_i, lon_grid_f]\n",
    "\n",
    "    #call mean and variance data from grid box indices:\n",
    "    data_grid_mean = data_mean[:,lat_grid:(lat_grid+ngrid),lon_grid:(lon_grid+ngrid)]\n",
    "    data_grid_var = data_var[:,lat_grid:(lat_grid+ngrid),lon_grid:(lon_grid+ngrid)]\n",
    "\n",
    "    #average over the region along the column and depth dimension of the 3D array (the row axis is the time dimension): \n",
    "    data_reg_mean = np.ma.mean(np.ma.mean(data_grid_mean, axis = 1, dtype=np.float64), axis = 1)\n",
    "\n",
    "    #compute the average variance over the region \n",
    "    data_reg_var = np.ma.mean(np.ma.mean(data_grid_var, axis = 1, dtype=np.float64), axis = 1)\n",
    "\n",
    "    #compute the standard error of the mean assuming that degrees of freedom N = 23 years\n",
    "    data_reg_stdm = np.sqrt(data_reg_var)/np.sqrt(dof)\n",
    "\n",
    "    #compute the least square fit: \n",
    "    hfit, x_data = least_square_fit(data = data_reg_mean, trend = 'sinusoidal',\n",
    "                                           parameters = 5, period = 12, fill_val = 'mask')\n",
    "\n",
    "    #compute the residue between the model and observed SWH data:\n",
    "    residual = hfit - data_reg_mean\n",
    "\n",
    "    #Case 1: Southern hemisphere region\n",
    "    if loc[0] == 'SH':\n",
    "\n",
    "        #In the southern hemisphere, shift the time series over such that summer months of Dec, Jan, and Feb are center of figure:    \n",
    "        data_reg_mean = np.reshape(np.ma.array([data_reg_mean[6:13], data_reg_mean[0:6]]), (1,12))[0]\n",
    "        data_reg_stdm = np.reshape(np.ma.array([data_reg_stdm[6:13], data_reg_stdm[0:6]]), (1,12))[0]\n",
    "        hfit = np.reshape(np.ma.array([hfit[6:13], hfit[0:6]]), (1,12))[0]\n",
    "        residual = np.reshape(np.ma.array([residual[6:13], residual[0:6]]), (1,12))[0]\n",
    "\n",
    "    return data_reg_mean, data_reg_stdm, hfit, residual, grid_cor"
   ]
  },
  {
   "cell_type": "markdown",
   "metadata": {},
   "source": [
    "Next, isolate several n degree by n degree regions within eastern boundary regions where I will compute a least square fit"
   ]
  },
  {
   "cell_type": "code",
   "execution_count": 40,
   "metadata": {
    "scrolled": false
   },
   "outputs": [
    {
     "name": "stdout",
     "output_type": "stream",
     "text": [
      "279 283\n",
      "30 34\n",
      "283 287\n",
      "30 34\n",
      "279 283\n",
      "34 38\n",
      "283 287\n",
      "34 38\n"
     ]
    },
    {
     "data": {
      "image/png": "[encoded data removed]",
      "text/plain": [
       "<Figure size 1008x864 with 8 Axes>"
      ]
     },
     "metadata": {
      "needs_background": "light"
     },
     "output_type": "display_data"
    }
   ],
   "source": [
    "#initialize subplot axes: \n",
    "fig, axes = plt.subplots(n_row, n_coln, figsize=(14,12))\n",
    "\n",
    "#initialize counter: \n",
    "gc = 0\n",
    "\n",
    "#Initialize location sensitive attributes: \n",
    "#case 1: 3x3 subplot\n",
    "if n_row == 3 & n_coln == 3:\n",
    "    #3 by 3 subplot labels and placement:\n",
    "    subplot_label = ['G', 'H', 'I', 'D', 'E', 'F', 'A', 'B', 'C']\n",
    "    subplot_p = [6, 7, 8, 3, 4, 5, 0, 1, 2]\n",
    "#case 2: 2x2 subplot\n",
    "elif n_row == 2 & n_coln == 2:\n",
    "    #2 by 2 subplot labels and placement \n",
    "    subplot_label = ['C', 'D', 'A', 'B']\n",
    "    subplot_p = [2, 3, 0, 1]\n",
    "#case 3: 1x3 subplot\n",
    "elif n_row == 1 & n_coln == 3:\n",
    "    #1 by 3 subplot labels and placement \n",
    "    subplot_label = ['A','B','C']\n",
    "    subplot_p = [0, 1, 2]\n",
    "    \n",
    "subplot_label = ['C', 'D', 'A', 'B']\n",
    "subplot_p = [2, 3, 0, 1]\n",
    "    \n",
    "#case 1: NH\n",
    "if location[0] == 'NH':\n",
    "    \n",
    "    #x-axis tick labels for NH:\n",
    "    time_ticks = ['Jan', 'Feb', 'Mar', 'Apr', 'May', 'Jun', 'Jul', 'Aug', 'Sep', 'Oct', 'Nov', 'Dec']\n",
    "    \n",
    "elif location[0] == 'SH':\n",
    "    \n",
    "    #x-axis tick labels for SH:\n",
    "    time_ticks = ['Jul', 'Aug', 'Sep', 'Oct', 'Nov', 'Dec', 'Jan', 'Feb', 'Mar', 'Apr', 'May', 'Jun']\n",
    "\n",
    "\n",
    "#loop through several 2 degree by 2 degree grid boxes \n",
    "for lat_grid in range(35,41,ngrid):\n",
    "    for lon_grid in range(104, 112,ngrid):\n",
    "        \n",
    "        print(lon_grid, lon_grid+ngrid)\n",
    "        print(lat_grid, lat_grid+ngrid)\n",
    "        \n",
    "        #compute regional climatology: \n",
    "        swh_reg_mean_i, swh_reg_stdm_i, swh_hfit_i, swh_residual_i, grid_cor = regional_clima(data_mean = swh_mean_i, data_var = swh_var_i, lon = lon_i, lat = lat_i, lon_grid = lon_grid, lat_grid = lat_grid, ngrid = ngrid, dof = 23, loc = location)\n",
    "        wsp_reg_mean_c, wsp_reg_stdm_c, wsp_hfit_c, wsp_residual_c, grid_cor = regional_clima(data_mean = wsp_mean_c, data_var = wsp_var_c, lon = lon_i, lat = lat_i, lon_grid = lon_grid, lat_grid = lat_grid, ngrid = ngrid, dof = 23, loc = location)\n",
    "        swh_reg_mean_w, swh_reg_stdm_w, swh_hfit_w, swh_residual_w, grid_cor = regional_clima(data_mean = swh_mean_w, data_var = swh_var_w, lon = lon_i, lat = lat_i, lon_grid = lon_grid, lat_grid = lat_grid, ngrid = ngrid, dof = 23, loc = location)\n",
    "        wsp_reg_mean_w, wsp_reg_stdm_w, wsp_hfit_w, wsp_residual_w, grid_cor = regional_clima(data_mean = wsp_mean_w, data_var = wsp_var_w, lon = lon_i, lat = lat_i, lon_grid = lon_grid, lat_grid = lat_grid, ngrid = ngrid, dof = 23, loc = location)\n",
    "        \n",
    "        #plot regional climatologies: \n",
    "        #call subplot axis: \n",
    "        ax_grid = axes.flatten()[subplot_p[gc]]\n",
    "        \n",
    "        #SWH axis: \n",
    "        ax_grid_twin = ax_grid.twinx()\n",
    "        #set color of left axis:\n",
    "        color = 'tab:blue'\n",
    "        ax_grid_twin.tick_params(axis='y', labelcolor=color)\n",
    "        #plot WW3\n",
    "        #ax_grid_twin.plot(month, swh_reg_mean_w, 'k-')\n",
    "        #ax_grid_twin.fill_between(month, swh_reg_mean_w - swh_reg_stdm_w, swh_reg_mean_w + swh_reg_stdm_w, \n",
    "        #                color='black', alpha = 0.3)  \n",
    "        #Plot Ifremer SWH\n",
    "        ax_grid_twin.plot(month, swh_reg_mean_i, 'b-')\n",
    "        ax_grid_twin.plot(month, swh_hfit_i, 'b--')\n",
    "        ax_grid_twin.fill_between(month, swh_reg_mean_i - swh_reg_stdm_i, swh_reg_mean_i + swh_reg_stdm_i, \n",
    "                                  color=color, alpha = 0.3) \n",
    "        #Plot residual SWH\n",
    "        #ax_grid_twin.plot(month, residual_swh, 'b-')\n",
    "        #ax_grid_twin.set_ylim([-0.5, 0.5])\n",
    "        #set subplot attributes: \n",
    "        ax_grid_twin.set_ylabel('SWH [m]', color=color)\n",
    "        ax_grid_twin.set_ylim([1, 4])\n",
    "        ax_grid_twin.grid(color=color, linestyle='-.', linewidth=1, alpha = 0.2)\n",
    "\n",
    "        #WSP axis:\n",
    "        #set color:\n",
    "        color = 'tab:red'\n",
    "        ax_grid.tick_params(axis='y', labelcolor=color)\n",
    "        #plot WW3 WSP\n",
    "        #ax_grid.plot(month, wsp_reg_mean_w, color = 'tab:purple')\n",
    "        #ax_grid.fill_between(month, wsp_reg_mean_w - wsp_reg_stdm_w, wsp_reg_mean_w + wsp_reg_stdm_w, \n",
    "        #                 color='tab:purple', alpha = 0.3)\n",
    "        #plot CCMP2 WSP\n",
    "        ax_grid.plot(month, wsp_reg_mean_c, 'r-')\n",
    "        ax_grid.plot(month, wsp_hfit_c, 'r--')\n",
    "        ax_grid.fill_between(month, wsp_reg_mean_c - wsp_reg_stdm_c, wsp_reg_mean_c + wsp_reg_stdm_c, \n",
    "                             color=color, alpha = 0.3)\n",
    "        \n",
    "        #set attributes of subplot: \n",
    "        ax_grid.set_xlim([0, 13])\n",
    "        ax_grid.set_xticklabels(time_ticks)\n",
    "        start, end = ax_grid.get_xlim()\n",
    "        ax_grid.xaxis.set_ticks(np.arange(start+1, end+1, 1))\n",
    "        #hind every other ticklabel\n",
    "        for label in ax_grid.xaxis.get_ticklabels()[::2]:\n",
    "            label.set_visible(False)\n",
    "        ax_grid.set_ylabel('WSP [m/s]', color=color)\n",
    "        ax_grid.set_ylim([6, 10])\n",
    "        ax_grid.grid(color=color, linestyle='-.', linewidth=1, alpha = 0.2)\n",
    "        cart.subplot_label(ax_grid, xdist_label = 0.08, ydist_label = 0.94, \n",
    "                           subplot_label = subplot_label[gc], fs_shade = 28, fs_main = 12)\n",
    "        cart.subplot_label(ax_grid_twin, xdist_label = 0.58, ydist_label = 0.94, \n",
    "                           subplot_label = 'Lat:''%s' %grid_cor[0] + ' to ' + '%s' %grid_cor[1] + '  ' + 'Lon:' + '%s' %grid_cor[2] + ' to ' + '%s' %grid_cor[3] , fs_shade = 28, fs_main = 8)\n",
    "        \n",
    "        #save data at desire grid box: \n",
    "        if subplot_label[gc] == 'D':\n",
    "            \n",
    "            np.savez('/zdata/downloads/colosi_data_bk/npz_data/reg_clima/west_australia/west_australia_ifremer', swh_mean = swh_reg_mean_i,\n",
    "                     swh_stdm = swh_reg_stdm_i, swh_hfit = swh_hfit_i, swh_residual = swh_residual_i, \n",
    "                     grid_cor = grid_cor)\n",
    "            np.savez('/zdata/downloads/colosi_data_bk/npz_data/reg_clima/west_australia/west_australia_ccmp2', wsp_mean = wsp_reg_mean_c, \n",
    "                     wsp_stdm = wsp_reg_stdm_c, wsp_hfit = wsp_hfit_c, grid_cor = grid_cor)\n",
    "            np.savez('/zdata/downloads/colosi_data_bk/npz_data/reg_clima/west_australia_coast/west_australia_ww3', swh_mean = swh_reg_mean_w, \n",
    "                     swh_stdm = swh_reg_stdm_w, wsp_mean = wsp_reg_mean_w, wsp_stdm = wsp_reg_stdm_w,  \n",
    "                     grid_cor = grid_cor)\n",
    "        \n",
    "        #sum grid_counter:\n",
    "        gc += 1\n",
    "            \n",
    "        \n",
    "#make sure the figure looks good:\n",
    "fig.tight_layout()\n",
    "\n",
    "#adjust spacing for the entire figure \n",
    "plt.subplots_adjust(wspace = 0.35, hspace = 0.1)\n",
    "\n",
    "#add a legend: \n",
    "#plt.figlegend((l1, l2, l3, l4, l5, l6), labels = ('Ifremer SWH', 'Ifremer SWH Least Square fit', 'WW3 SWH', 'CCMP2 WSP', 'CCMP2 WSP least square fit', 'WW3 WSP' ), loc = 'best', ncol=2, labelspacing=0.1)\n",
    "\n",
    "#save figure: \n",
    "plt.savefig(fname = '/zdata/downloads/colosi_data_bk/surfacewaves_python_figs/region_clima_fig/west_australia/west_australia_regional_clima_4x4', bbox_inches = 'tight', dpi=300)\n"
   ]
  },
  {
   "cell_type": "markdown",
   "metadata": {},
   "source": [
    "Save regional climatology variables in a .npz file for a particular 2x2 degree region"
   ]
  },
  {
   "cell_type": "code",
   "execution_count": 29,
   "metadata": {},
   "outputs": [],
   "source": [
    "np.savez('/zdata/downloads/colosi_data_bk/npz_data/reg_clima/west_australia/australia_ifremer', swh_mean = swh_reg_mean_i,\n",
    "         swh_stdm = swh_reg_stdm_i, swh_hfit = swh_hfit_i, swh_residual = swh_residual_i, grid_cor = grid_cor)\n",
    "np.savez('/zdata/downloads/colosi_data_bk/npz_data/reg_clima/west_australia/australia_ccmp2', wsp_mean = wsp_reg_mean_c, \n",
    "         wsp_stdm = wsp_reg_stdm_c, wsp_hfit = wsp_hfit_c, grid_cor = grid_cor)\n",
    "np.savez('/zdata/downloads/colosi_data_bk/npz_data/reg_clima/west_australia/australia_ww3', swh_mean = swh_reg_mean_w, \n",
    "         swh_stdm = swh_reg_stdm_w, wsp_mean = wsp_reg_mean_w, wsp_stdm = wsp_reg_stdm_w,  grid_cor = grid_cor)"
   ]
  },
  {
   "cell_type": "markdown",
   "metadata": {},
   "source": [
    " "
   ]
  },
  {
   "cell_type": "markdown",
   "metadata": {},
   "source": [
    " "
   ]
  },
  {
   "cell_type": "markdown",
   "metadata": {},
   "source": [
    "### Development Code"
   ]
  },
  {
   "cell_type": "markdown",
   "metadata": {},
   "source": [
    " "
   ]
  },
  {
   "cell_type": "markdown",
   "metadata": {},
   "source": [
    " "
   ]
  },
  {
   "cell_type": "markdown",
   "metadata": {},
   "source": [
    " "
   ]
  },
  {
   "cell_type": "code",
   "execution_count": 30,
   "metadata": {},
   "outputs": [
    {
     "ename": "IndentationError",
     "evalue": "unexpected indent (<ipython-input-30-effa5558eb0a>, line 2)",
     "output_type": "error",
     "traceback": [
      "\u001b[0;36m  File \u001b[0;32m\"<ipython-input-30-effa5558eb0a>\"\u001b[0;36m, line \u001b[0;32m2\u001b[0m\n\u001b[0;31m    lat_grid_i = lat[lat_grid]\u001b[0m\n\u001b[0m    ^\u001b[0m\n\u001b[0;31mIndentationError\u001b[0m\u001b[0;31m:\u001b[0m unexpected indent\n"
     ]
    }
   ],
   "source": [
    "#latitude and longitude grid points that will be averaged over: \n",
    "        lat_grid_i = lat[lat_grid]\n",
    "        lat_grid_f = lat[lat_grid+ngrid-1]\n",
    "        lon_grid_i = lon[lon_grid]-360\n",
    "        lon_grid_f = lon[lon_grid+ngrid-1]-360\n",
    "        \n",
    "        #call mean and variance data from grid box indices: \n",
    "        swh_grid_mean_i = swh_mean_i[:,lat_grid:(lat_grid+ngrid),lon_grid:(lon_grid+ngrid)]\n",
    "        wsp_grid_mean_c = wsp_mean_c[:,lat_grid:(lat_grid+ngrid),lon_grid:(lon_grid+ngrid)]\n",
    "        swh_grid_mean_w = swh_mean_w[:,lat_grid:(lat_grid+ngrid),lon_grid:(lon_grid+ngrid)]\n",
    "        wsp_grid_mean_w = wsp_mean_w[:,lat_grid:(lat_grid+ngrid),lon_grid:(lon_grid+ngrid)]\n",
    "        swh_grid_var_i = swh_var_i[:,lat_grid:(lat_grid+ngrid),lon_grid:(lon_grid+ngrid)]\n",
    "        wsp_grid_var_c = wsp_var_c[:,lat_grid:(lat_grid+ngrid),lon_grid:(lon_grid+ngrid)]\n",
    "        swh_grid_var_w = swh_var_w[:,lat_grid:(lat_grid+ngrid),lon_grid:(lon_grid+ngrid)]\n",
    "        wsp_grid_var_w = wsp_var_w[:,lat_grid:(lat_grid+ngrid),lon_grid:(lon_grid+ngrid)]\n",
    "        \n",
    "        #average over the region along the column and depth dimension of the 3D array (the row axis is the time dimension): \n",
    "        swh_reg_mean_i = np.ma.mean(np.ma.mean(swh_grid_mean_i, axis = 1, dtype=np.float64), axis = 1)\n",
    "        wsp_reg_mean_c = np.ma.mean(np.ma.mean(wsp_grid_mean_c, axis = 1, dtype=np.float64), axis = 1)\n",
    "        swh_reg_mean_w = np.ma.mean(np.ma.mean(swh_grid_mean_w, axis = 1, dtype=np.float64), axis = 1)\n",
    "        wsp_reg_mean_w = np.ma.mean(np.ma.mean(wsp_grid_mean_w, axis = 1, dtype=np.float64), axis = 1)\n",
    "        \n",
    "        #compute the average variance over the region \n",
    "        swh_reg_var_i = np.ma.mean(np.ma.mean(swh_grid_var_i, axis = 1, dtype=np.float64), axis = 1)\n",
    "        wsp_reg_var_c = np.ma.mean(np.ma.mean(wsp_grid_var_c, axis = 1, dtype=np.float64), axis = 1)\n",
    "        swh_reg_var_w = np.ma.mean(np.ma.mean(swh_grid_var_w, axis = 1, dtype=np.float64), axis = 1)\n",
    "        wsp_reg_var_w = np.ma.mean(np.ma.mean(wsp_grid_var_w, axis = 1, dtype=np.float64), axis = 1)\n",
    "        \n",
    "        #compute the standard error of the mean assuming that degrees of freedom N = 23 years\n",
    "        swh_reg_stdm_i = np.sqrt(swh_reg_var_i)/np.sqrt(23)\n",
    "        wsp_reg_stdm_c = np.sqrt(wsp_reg_var_c)/np.sqrt(23)\n",
    "        swh_reg_stdm_w = np.sqrt(swh_reg_var_w)/np.sqrt(23)\n",
    "        wsp_reg_stdm_w = np.sqrt(wsp_reg_var_w)/np.sqrt(23)\n",
    "        \n",
    "        #compute the least square fit: \n",
    "        #For Ifremer SWH: \n",
    "        swh_hfit, x_swh = least_square_fit(data = swh_reg_mean_i, trend = 'sinusoidal', \n",
    "                                           parameters = 5, period = 12, fill_val = 'mask')\n",
    "        #for CCMP2 WSP: \n",
    "        wsp_hfit, x_wsp = least_square_fit(data = wsp_reg_mean_c, trend = 'sinusoidal', \n",
    "                                           parameters = 5, period = 12, fill_val = 'mask')\n",
    "        \n",
    "        #compute the residue between the model and observed SWH data:\n",
    "        residual_swh = swh_hfit - swh_reg_mean_i\n",
    "        \n",
    "        #If in the southern hemisphere, shift the time series over such that summer months of Dec, Jan, and Feb are center of figure:\n",
    "#         swh_reg_mean_i = np.reshape(np.ma.array([swh_reg_mean_i[6:13], swh_reg_mean_i[0:6]]), (1,12))[0]\n",
    "#         wsp_reg_mean_c = np.reshape(np.ma.array([wsp_reg_mean_c[6:13], wsp_reg_mean_c[0:6]]), (1,12))[0]\n",
    "#         swh_reg_mean_w = np.reshape(np.ma.array([swh_reg_mean_w[6:13], swh_reg_mean_w[0:6]]), (1,12))[0]\n",
    "#         wsp_reg_mean_w = np.reshape(np.ma.array([wsp_reg_mean_w[6:13], wsp_reg_mean_w[0:6]]), (1,12))[0]\n",
    "#         swh_reg_stdm_i = np.reshape(np.ma.array([swh_reg_stdm_i[6:13], swh_reg_stdm_i[0:6]]), (1,12))[0]\n",
    "#         wsp_reg_stdm_c = np.reshape(np.ma.array([wsp_reg_stdm_c[6:13], wsp_reg_stdm_c[0:6]]), (1,12))[0]\n",
    "#         swh_reg_stdm_w = np.reshape(np.ma.array([swh_reg_stdm_w[6:13], swh_reg_stdm_w[0:6]]), (1,12))[0]\n",
    "#         wsp_reg_stdm_w = np.reshape(np.ma.array([wsp_reg_stdm_w[6:13], wsp_reg_stdm_w[0:6]]), (1,12))[0]\n",
    "#         swh_hfit = np.reshape(np.ma.array([swh_hfit[6:13], swh_hfit[0:6]]), (1,12))[0]\n",
    "#         wsp_hfit = np.reshape(np.ma.array([wsp_hfit[6:13], wsp_hfit[0:6]]), (1,12))[0]"
   ]
  },
  {
   "cell_type": "code",
   "execution_count": null,
   "metadata": {},
   "outputs": [],
   "source": [
    "import numpy as np\n",
    "a = np.array([(2, 3, 4), (2, 3, 4)])\n",
    "print(a.shape)\n",
    "print(a)\n",
    "a_mean = np.ma.mean(a, axis = 1, dtype=np.float64)\n",
    "#a_mean = np.ma.mean(np.ma.mean(a, axis = 0, dtype=np.float64), axis=0, dtype=np.float64)\n",
    "print(a_mean)"
   ]
  },
  {
   "cell_type": "code",
   "execution_count": null,
   "metadata": {},
   "outputs": [],
   "source": [
    "import numpy as np\n",
    "test_i = np.random.randint(0, 10, size=(2, 5, 4))\n",
    "print(test_i)\n",
    "print(test_i[0])\n",
    "print(test_i[1])\n",
    "mean_row = np.ma.mean(test_i, axis = 1)\n",
    "print(mean_row)"
   ]
  },
  {
   "cell_type": "code",
   "execution_count": null,
   "metadata": {},
   "outputs": [],
   "source": [
    "mean_clima = np.ma.mean(mean_row, axis = 0)\n",
    "print(mean_clima)\n",
    "print((6+1+1+3+9)/5)\n",
    "print((4+6+5+6+5)/5)\n",
    "print((2+4+1+7+4)/5)\n",
    "print((4+1+4+4+1)/5)"
   ]
  },
  {
   "cell_type": "code",
   "execution_count": null,
   "metadata": {},
   "outputs": [],
   "source": [
    "%whos"
   ]
  },
  {
   "cell_type": "code",
   "execution_count": null,
   "metadata": {},
   "outputs": [],
   "source": [
    "a, b, c = 1, 2, 3\n",
    "print(a,b,c)\n",
    "del a, b, c\n",
    "print(c)"
   ]
  },
  {
   "cell_type": "code",
   "execution_count": null,
   "metadata": {},
   "outputs": [],
   "source": [
    "plt.pcolor(lon_i,lat_i, swh_mean_i[0], vmin=0,vmax=6, cmap=cmo.thermal)\n",
    "plt.ylabel('latitude', fontsize=14)\n",
    "#set colorbar\n",
    "cbar = plt.colorbar()\n",
    "#label colorbar and set font\n",
    "cbar.set_label('[m]', fontsize=14)\n",
    "#label figure \n",
    "plt.title('SWH january mean', fontsize=16)\n",
    "\n"
   ]
  },
  {
   "cell_type": "code",
   "execution_count": null,
   "metadata": {},
   "outputs": [],
   "source": [
    "gc = 1\n"
   ]
  },
  {
   "cell_type": "code",
   "execution_count": null,
   "metadata": {},
   "outputs": [],
   "source": [
    "import matplotlib.pyplot as plt\n",
    "\n",
    "fig, axes = plt.subplots(3, 2, figsize=(16,12))\n",
    "ax1, ax2, ax3, ax4, ax5, ax6 = axes.flatten()\n",
    "ax_grid = axes.flatten()[1]\n",
    "ax_grid.set_title('x')"
   ]
  },
  {
   "cell_type": "code",
   "execution_count": null,
   "metadata": {},
   "outputs": [],
   "source": [
    "6 %2"
   ]
  },
  {
   "cell_type": "code",
   "execution_count": null,
   "metadata": {},
   "outputs": [],
   "source": [
    "print(time_w)"
   ]
  },
  {
   "cell_type": "code",
   "execution_count": null,
   "metadata": {},
   "outputs": [],
   "source": [
    "swh_w.shape"
   ]
  },
  {
   "cell_type": "code",
   "execution_count": null,
   "metadata": {},
   "outputs": [],
   "source": [
    "print(swh_grid_mean_i)\n",
    "swh_test = np.mean(np.ma.mean(swh_grid_mean_i, axis = 1, dtype=np.float64), axis = 1)\n",
    "print(swh_test.shape)"
   ]
  },
  {
   "cell_type": "code",
   "execution_count": null,
   "metadata": {},
   "outputs": [],
   "source": [
    "t = [lat_grid, lat_grid+ngrid-1]\n",
    "p = [lon_grid, lon_grid+ngrid-1]\n",
    "print(t, p)\n",
    "swh_test = swh_mean_i[:,92,304:305]\n",
    "print(swh_test)"
   ]
  },
  {
   "cell_type": "code",
   "execution_count": null,
   "metadata": {},
   "outputs": [],
   "source": [
    "A = np.random.randint(10, size = (12,2,3))\n",
    "print(A)"
   ]
  },
  {
   "cell_type": "code",
   "execution_count": null,
   "metadata": {},
   "outputs": [],
   "source": [
    "A_grid = A[:,0:1,0:1]\n",
    "print(A_grid)"
   ]
  },
  {
   "cell_type": "code",
   "execution_count": null,
   "metadata": {},
   "outputs": [],
   "source": [
    "swh_reg_stdm_i"
   ]
  },
  {
   "cell_type": "code",
   "execution_count": null,
   "metadata": {},
   "outputs": [],
   "source": [
    "lat = nc_i.variables['lat'][:]\n",
    "lon = nc_i.variables['lon'][:]"
   ]
  },
  {
   "cell_type": "code",
   "execution_count": null,
   "metadata": {},
   "outputs": [],
   "source": [
    "print(lon)\n",
    "lon_n = lon - 180\n",
    "print(lon_n)\n",
    "print(lon_n[60])\n",
    "print(lat[98])\n",
    "60+180"
   ]
  },
  {
   "cell_type": "code",
   "execution_count": null,
   "metadata": {},
   "outputs": [],
   "source": [
    "import numpy as np\n",
    "lon_i = np.arange(0,360,1)\n",
    "print(lon_i[238]-360)"
   ]
  },
  {
   "cell_type": "code",
   "execution_count": null,
   "metadata": {},
   "outputs": [],
   "source": [
    "%whos"
   ]
  },
  {
   "cell_type": "code",
   "execution_count": null,
   "metadata": {},
   "outputs": [],
   "source": [
    "swh_reg_mean_w"
   ]
  },
  {
   "cell_type": "code",
   "execution_count": null,
   "metadata": {},
   "outputs": [],
   "source": [
    "A = np.array([[1, 2, 3, 4 ], [1, 2, 3, 4], [1, 2, 3, 4]])\n",
    "print(A)\n",
    "print(A[:,1:3])"
   ]
  },
  {
   "cell_type": "code",
   "execution_count": null,
   "metadata": {},
   "outputs": [],
   "source": [
    "np.array?"
   ]
  },
  {
   "cell_type": "code",
   "execution_count": null,
   "metadata": {},
   "outputs": [],
   "source": [
    "A = np.array([[0:13]])\n",
    "print(A)"
   ]
  },
  {
   "cell_type": "code",
   "execution_count": null,
   "metadata": {},
   "outputs": [],
   "source": [
    "%whos\n"
   ]
  },
  {
   "cell_type": "code",
   "execution_count": null,
   "metadata": {},
   "outputs": [],
   "source": [
    "time_ticks\n"
   ]
  },
  {
   "cell_type": "code",
   "execution_count": null,
   "metadata": {},
   "outputs": [],
   "source": [
    "gc\n"
   ]
  },
  {
   "cell_type": "code",
   "execution_count": null,
   "metadata": {},
   "outputs": [],
   "source": [
    "n_coln"
   ]
  },
  {
   "cell_type": "code",
   "execution_count": null,
   "metadata": {},
   "outputs": [],
   "source": [
    "subplot_p"
   ]
  },
  {
   "cell_type": "code",
   "execution_count": null,
   "metadata": {},
   "outputs": [],
   "source": [
    "%reset"
   ]
  },
  {
   "cell_type": "code",
   "execution_count": null,
   "metadata": {},
   "outputs": [],
   "source": []
  }
 ],
 "metadata": {
  "kernelspec": {
   "display_name": "Python 3",
   "language": "python",
   "name": "python3"
  },
  "language_info": {
   "codemirror_mode": {
    "name": "ipython",
    "version": 3
   },
   "file_extension": ".py",
   "mimetype": "text/x-python",
   "name": "python",
   "nbconvert_exporter": "python",
   "pygments_lexer": "ipython3",
   "version": "3.7.3"
  }
 },
 "nbformat": 4,
 "nbformat_minor": 2
}
