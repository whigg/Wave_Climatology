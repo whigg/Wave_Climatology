{
 "cells": [
  {
   "cell_type": "markdown",
   "metadata": {},
   "source": [
    "# Comparison between Bia's binned Ifremer 1 swh product and my binned Ifremer 1 swh product (Validation method for checking if my binning program is correct)"
   ]
  },
  {
   "cell_type": "markdown",
   "metadata": {},
   "source": [
    "Plot figure within jupyter notebook"
   ]
  },
  {
   "cell_type": "code",
   "execution_count": 1,
   "metadata": {},
   "outputs": [],
   "source": [
    "%matplotlib inline"
   ]
  },
  {
   "cell_type": "markdown",
   "metadata": {},
   "source": [
    "Use the sys library in order to tell the notebook to look for files within the followinf directory path: "
   ]
  },
  {
   "cell_type": "code",
   "execution_count": 2,
   "metadata": {},
   "outputs": [],
   "source": [
    "import sys\n",
    "sys.path.append('/zdata/home/lcolosi/python_functions/')"
   ]
  },
  {
   "cell_type": "markdown",
   "metadata": {},
   "source": [
    "Import all libraries and functions"
   ]
  },
  {
   "cell_type": "code",
   "execution_count": 3,
   "metadata": {},
   "outputs": [],
   "source": [
    "#libraries\n",
    "import numpy as np #contains the major of functions used for matrix arrays  \n",
    "import matplotlib.pyplot as plt # matplotlib contains functions for graphics and plot manipulation\n",
    "from netCDF4 import Dataset, num2date # netCDF4 handles netCDF files\n",
    "import cmocean.cm as cmo\n",
    "from matplotlib import cm \n",
    "import cartopy \n",
    "import cartopy.crs as ccrs\n"
   ]
  },
  {
   "cell_type": "markdown",
   "metadata": {},
   "source": [
    "Call Bia's Ifremer Product 1 swh binned daily data"
   ]
  },
  {
   "cell_type": "code",
   "execution_count": 4,
   "metadata": {},
   "outputs": [
    {
     "ename": "FileNotFoundError",
     "evalue": "[Errno 2] No such file or directory: b'/zdata/home/lcolosi/data/ifremer_p1_daily_data/bia_daily_binned_ifremer_data/all_sat_binned_swh_1992-08-23_2016-08-23.nc'",
     "output_type": "error",
     "traceback": [
      "\u001b[0;31m---------------------------------------------------------------------------\u001b[0m",
      "\u001b[0;31mFileNotFoundError\u001b[0m                         Traceback (most recent call last)",
      "\u001b[0;32m<ipython-input-4-30d06c2d61c0>\u001b[0m in \u001b[0;36m<module>\u001b[0;34m\u001b[0m\n\u001b[1;32m      2\u001b[0m \u001b[0;34m\u001b[0m\u001b[0m\n\u001b[1;32m      3\u001b[0m \u001b[0;31m#set nc variable in order to read attributes and obtained data:\u001b[0m\u001b[0;34m\u001b[0m\u001b[0;34m\u001b[0m\u001b[0;34m\u001b[0m\u001b[0m\n\u001b[0;32m----> 4\u001b[0;31m \u001b[0mnc1\u001b[0m \u001b[0;34m=\u001b[0m \u001b[0mDataset\u001b[0m\u001b[0;34m(\u001b[0m\u001b[0mfilename1\u001b[0m\u001b[0;34m,\u001b[0m \u001b[0;34m'r'\u001b[0m\u001b[0;34m)\u001b[0m\u001b[0;34m\u001b[0m\u001b[0;34m\u001b[0m\u001b[0m\n\u001b[0m\u001b[1;32m      5\u001b[0m \u001b[0;34m\u001b[0m\u001b[0m\n\u001b[1;32m      6\u001b[0m \u001b[0;31m#print key variables:\u001b[0m\u001b[0;34m\u001b[0m\u001b[0;34m\u001b[0m\u001b[0;34m\u001b[0m\u001b[0m\n",
      "\u001b[0;32mnetCDF4/_netCDF4.pyx\u001b[0m in \u001b[0;36mnetCDF4._netCDF4.Dataset.__init__\u001b[0;34m()\u001b[0m\n",
      "\u001b[0;32mnetCDF4/_netCDF4.pyx\u001b[0m in \u001b[0;36mnetCDF4._netCDF4._ensure_nc_success\u001b[0;34m()\u001b[0m\n",
      "\u001b[0;31mFileNotFoundError\u001b[0m: [Errno 2] No such file or directory: b'/zdata/home/lcolosi/data/ifremer_p1_daily_data/bia_daily_binned_ifremer_data/all_sat_binned_swh_1992-08-23_2016-08-23.nc'"
     ]
    }
   ],
   "source": [
    "filename1 = '/zdata/downloads/colosi_data_bk/binned_data/ifremer_p1_daily_data/bia_daily_binned_ifremer_data/all_sat_binned_swh_1992-08-23_2016-08-23.nc'\n",
    "\n",
    "#set nc variable in order to read attributes and obtained data: \n",
    "nc1 = Dataset(filename1, 'r')\n",
    "\n",
    "#print key variables:\n",
    "print(nc1.variables.keys())\n",
    "print('')\n",
    "\n",
    "#look at bia's attriutes for her data:\n",
    "#longitude\n",
    "for at in nc1.variables['lon'].ncattrs():\n",
    "    print(\"%s : %s\" %(at, nc1.variables['lon'].getncattr(at)))\n",
    "print('')\n",
    "#laitude\n",
    "for at in nc1.variables['lat'].ncattrs():\n",
    "    print(\"%s : %s\" %(at, nc1.variables['lat'].getncattr(at)))\n",
    "print('')\n",
    "#time \n",
    "for at in nc1.variables['time'].ncattrs():\n",
    "    print(\"%s : %s\" %(at, nc1.variables['time'].getncattr(at)))\n",
    "print('')\n",
    "#swhcor\n",
    "for at in nc1.variables['swhcor'].ncattrs():\n",
    "    print(\"%s : %s\" %(at, nc1.variables['swhcor'].getncattr(at)))\n",
    "\n",
    "#call swh and time data:\n",
    "swh_bia = nc1.variables['swhcor'][:]\n",
    "lon_bia = nc1.variables['lon'][:]\n",
    "lat_bia = nc1.variables['lat'][:]\n",
    "time_bia = num2date(nc1.variables['time'][:], nc1.variables['time'].units) \n",
    "\n",
    "print(lon_bia)\n",
    "print(lat_bia)"
   ]
  },
  {
   "cell_type": "markdown",
   "metadata": {},
   "source": [
    "Call luke's Ifremer Product 1 swh binned daily data"
   ]
  },
  {
   "cell_type": "code",
   "execution_count": null,
   "metadata": {},
   "outputs": [],
   "source": [
    "filename = '//zdata/downloads/colosi_data_bk/binned_data/ifremer_p1_daily_data/my_daily_binned_ifremer_data/ifremer_swh_daily_binned_data_93_16_bia.nc'\n",
    "\n",
    "#set nc variable in order to read attributes and obtained data: \n",
    "nc = Dataset(filename, 'r')\n",
    "\n",
    "#print key variables:\n",
    "print(nc.variables.keys())\n",
    "\n",
    "#Call swh \n",
    "swh_luke = nc.variables['swh'][:]\n",
    "lon_luke = nc.variables['lon'][:]\n",
    "lat_luke = nc.variables['lat'][:]\n",
    "time_luke = num2date(nc.variables['time'][:], nc.variables['time'].units) #convert time directly into datetime format instead of integer value time \n",
    "\n",
    "print(lon_luke)\n",
    "print(lat_luke)\n"
   ]
  },
  {
   "cell_type": "markdown",
   "metadata": {},
   "source": [
    "Call data from the year 1994 for both data sets: "
   ]
  },
  {
   "cell_type": "code",
   "execution_count": null,
   "metadata": {},
   "outputs": [],
   "source": [
    "#set year that will be called: \n",
    "year = 2015\n",
    "month = 12\n",
    "day = 31\n",
    "\n",
    "#target = datetime.datetime(2015,12,31)\n",
    "#time_bia == target\n",
    "\n",
    "#set indices for the year for each 2D array in bia and my binned data: \n",
    "years_bia = np.array([y.year for y in time_bia])\n",
    "years_luke = np.array([y.year for y in time_luke])\n",
    "months_bia = np.array([m.month for m in time_bia])\n",
    "months_luke = np.array([m.month for m in time_luke])\n",
    "days_bia = np.array([d.day for d in time_bia])\n",
    "days_luke = np.array([d.day for d in time_luke])\n",
    "\n",
    "#find indices: \n",
    "ind_bia_y = years_bia == year \n",
    "ind_luke_y = years_luke == year \n",
    "ind_bia_m = months_bia == month\n",
    "ind_luke_m = months_luke == month\n",
    "ind_bia_d = days_bia == day\n",
    "ind_luke_d = days_luke == day\n",
    "ind_bia1 = ind_bia_y*ind_bia_m\n",
    "ind_bia = ind_bia1*ind_bia_d\n",
    "ind_luke1 = ind_luke_y*ind_luke_m \n",
    "ind_luke = ind_luke1*ind_luke_d\n",
    "\n",
    "#apply indices:\n",
    "swh_bia_y = swh_bia[ind_bia,:,:]\n",
    "swh_luke_y = swh_luke[ind_luke,:,:]\n",
    "\n",
    "print(time_bia[ind_bia], time_luke[ind_luke])\n",
    "print(swh_bia_y.shape,swh_luke_y.shape)"
   ]
  },
  {
   "cell_type": "markdown",
   "metadata": {},
   "source": [
    "Set all the NaN values in my data set to masked points"
   ]
  },
  {
   "cell_type": "code",
   "execution_count": null,
   "metadata": {},
   "outputs": [],
   "source": [
    "swh_luke_y = np.ma.masked_invalid(swh_luke_y)"
   ]
  },
  {
   "cell_type": "markdown",
   "metadata": {},
   "source": [
    "Plot a scatter diagram to compare the binned data"
   ]
  },
  {
   "cell_type": "code",
   "execution_count": null,
   "metadata": {},
   "outputs": [],
   "source": [
    "#flatten both arrays:\n",
    "swh_bia_f = swh_bia_y.compressed() \n",
    "swh_luke_f = swh_luke_y.compressed()\n",
    "\n",
    "print(swh_bia_f.shape, swh_luke_f.shape)\n",
    "\n",
    "#plot\n",
    "plt.figure(figsize=(15,8))\n",
    "plt.suptitle('Comparison of Bia and my binned swhcor data for the 1994-01-01', fontsize = 20)\n",
    "#plt.scatter(swh_bia_f, swh_luke_f, c='#0504aa', alpha=1)\n",
    "\n",
    "plt.subplot(221)\n",
    "plt.pcolor(lon_bia,lat_bia,np.squeeze(swh_bia_y),cmap = cm.Blues)\n",
    "plt.ylabel('latitude')\n",
    "cbar = plt.colorbar()\n",
    "plt.title('Bia Binned Data')\n",
    "\n",
    "#plot histogram:\n",
    "plt.subplot(222)\n",
    "plt.hist(swh_bia_f, bins=np.arange(0,15,0.1), color='#0504aa', alpha=1, rwidth=1)\n",
    "plt.ylabel('Frequency')\n",
    "plt.grid()\n",
    "plt.title('Bia Binned Data histogram')\n",
    "\n",
    "plt.subplot(223)\n",
    "plt.pcolor(lon_bia,lat_bia,np.squeeze(swh_luke_y),cmap = cm.Blues)\n",
    "#plt.xlabel('Bia binned swhcor data')\n",
    "#plt.ylabel('Luke binned swhcor data')\n",
    "plt.xlabel('longitude')\n",
    "plt.ylabel('latitude')\n",
    "cbar = plt.colorbar()\n",
    "plt.grid()\n",
    "plt.title('Luke Binned Data')\n",
    "\n",
    "#plot histogram\n",
    "plt.subplot(224)\n",
    "plt.hist(swh_luke_f, bins=np.arange(0,15,0.1), color='#0504aa', alpha=1, rwidth=1)\n",
    "plt.xlabel('SWH Values')\n",
    "plt.ylabel('Frequency')\n",
    "plt.grid()\n",
    "plt.title('Luke Binned Data histogram')"
   ]
  },
  {
   "cell_type": "markdown",
   "metadata": {},
   "source": [
    "Kolmogorov–Smirnov test (ks test) for comparing histograms to see if the samples are from the same pop"
   ]
  },
  {
   "cell_type": "markdown",
   "metadata": {},
   "source": [
    "Conclusion from comparison results: \n",
    "\n",
    "1) Our two binned data proucts are different in the following ways: \n",
    "\n",
    "    a) Number of points binned in a given day (hence, not able to do a scatter plot)\n",
    "    b) Values are not the same "
   ]
  },
  {
   "cell_type": "markdown",
   "metadata": {},
   "source": [
    "Scatter plot: "
   ]
  },
  {
   "cell_type": "code",
   "execution_count": null,
   "metadata": {},
   "outputs": [],
   "source": [
    "#look at the points on my binned data that are not masked on bia's data:\n",
    "#swh_bia_y.mask = swh_luke_y.mask \n",
    "\n",
    "#plot scatter diagram:\n",
    "\n",
    "#flatten both arrays:\n",
    "swh_bia_f = swh_bia_y.flatten() \n",
    "swh_luke_f = swh_luke_y.flatten()\n",
    "\n",
    "print(swh_bia_f.shape, swh_luke_f.shape)\n",
    "\n",
    "#plot\n",
    "plt.figure(figsize=(12,10))\n",
    "plt.suptitle('Comparison of Bia and my binned swhcor data for the 1994-01-01',fontsize = 20)\n",
    "plt.scatter(swh_bia_f, swh_luke_f, c='#0504aa', s = 2, alpha=1)\n",
    "plt.plot(np.arange(0,15,0.1),np.arange(0,15,0.1),'k')\n",
    "plt.xlim(left = 0, right = 15)\n",
    "plt.ylim(bottom = 0, top = 15)\n",
    "plt.xlabel('Bia Binned Data')\n",
    "plt.ylabel('Luke Binned Data')\n"
   ]
  },
  {
   "cell_type": "markdown",
   "metadata": {},
   "source": [
    "Next, I need to find where these point are geographically and temporally "
   ]
  },
  {
   "cell_type": "markdown",
   "metadata": {},
   "source": [
    "Call data from on time series from each data set and plot the data to see if there is a certain time step where the data varies"
   ]
  },
  {
   "cell_type": "code",
   "execution_count": null,
   "metadata": {},
   "outputs": [],
   "source": [
    "#bia's\n",
    "ind_b = np.where(ind_bia)\n",
    "ind_l = np.where(ind_luke)\n",
    "swh_bia_ts = swh_bia[131:ind_b[0][0],70,180]\n",
    "#luke's\n",
    "swh_luke_ts = swh_luke[:ind_l[0][0],70,180]\n",
    "\n",
    "#size of data\n",
    "#ind_mb = swh_bia_ts.mask\n",
    "#ind_ml = swh_luke_ts.mask\n",
    "#ind_ml = np.isnan(swh_luke_ts)\n",
    "#print(swh_bia_ts[~ind_mb].shape, swh_luke_ts[~ind_ml].shape)\n",
    "\n",
    "#set all masked values to zero:\n",
    "#swh_bia_ts[ind_mb] = 0\n",
    "#swh_luke_ts[ind_ml] = 0\n",
    "\n",
    "#plot data\n",
    "#plot\n",
    "plt.figure(figsize=(30,10))\n",
    "plt.suptitle('Comparison of Bia and my binned swhcor data temporal off the california coast',fontsize = 20)\n",
    "plt.plot(np.arange(len(swh_luke_ts)),swh_luke_ts,'.b' )\n",
    "plt.plot(np.arange(len(swh_bia_ts)),swh_bia_ts,'.r')\n",
    "plt.xlim(left = 0, right = 365)\n",
    "plt.ylim(bottom = 0, top = 4)\n",
    "plt.xlabel('time [s]')\n",
    "plt.ylabel('swh [m]')"
   ]
  },
  {
   "cell_type": "code",
   "execution_count": null,
   "metadata": {},
   "outputs": [],
   "source": [
    "t = np.where(ind_bia)\n",
    "print(t[0][0])"
   ]
  },
  {
   "cell_type": "markdown",
   "metadata": {},
   "source": [
    "Next look geographically where the data is missing from one data set to another: "
   ]
  },
  {
   "cell_type": "markdown",
   "metadata": {},
   "source": [
    "Plot the number of observations binned in one day"
   ]
  },
  {
   "cell_type": "code",
   "execution_count": null,
   "metadata": {},
   "outputs": [],
   "source": [
    "n_bia_y = swh_bia_n[ind_bia_q,:,:]\n",
    "\n",
    "#plot \n",
    "plt.figure(figsize=(15,10))\n",
    "plt.suptitle('Comparison of Bia and my binned swhcor data for the 1994-01-01', fontsize = 20)\n",
    "\n",
    "plt.subplot(311)\n",
    "plt.pcolor(lon_bia,lat_bia,np.squeeze(n_bia_y),cmap = cm.plasma, vmin=0, vmax=40)\n",
    "plt.ylabel('latitude')\n",
    "cbar = plt.colorbar()\n",
    "plt.title('Bia Binned Data')\n",
    "\n",
    "plt.subplot(312)\n",
    "plt.pcolor(lon_bia,lat_bia,n_luke_c,cmap = cm.plasma, vmin=0, vmax=40)\n",
    "plt.ylabel('latitude')\n",
    "cbar = plt.colorbar()\n",
    "plt.title('Luke Binned Data')\n",
    "\n",
    "\n",
    "plt.subplot(313)\n",
    "plt.pcolor(lon_bia,lat_bia,n_luke_c - np.squeeze(n_bia_y),cmap = cm.seismic, vmin=-20, vmax=20)\n",
    "plt.ylabel('latitude')\n",
    "cbar = plt.colorbar()\n",
    "plt.title('Difference between number of Binned Data')"
   ]
  },
  {
   "cell_type": "code",
   "execution_count": null,
   "metadata": {},
   "outputs": [],
   "source": []
  },
  {
   "cell_type": "code",
   "execution_count": null,
   "metadata": {},
   "outputs": [],
   "source": []
  },
  {
   "cell_type": "code",
   "execution_count": null,
   "metadata": {},
   "outputs": [],
   "source": []
  },
  {
   "cell_type": "markdown",
   "metadata": {},
   "source": [
    "Next, average both data sets temporally for the entire time series to see if there are any major difference (indication of systematic error) or they are very similar (random error which is averaged over) "
   ]
  },
  {
   "cell_type": "code",
   "execution_count": null,
   "metadata": {},
   "outputs": [],
   "source": [
    "#check the types of arrays for binned data: \n",
    "print(type(swh_bia))\n",
    "print(swh_bia.shape)\n",
    "print(time_bia[0])\n",
    "print(type(swh_luke))\n",
    "print(swh_luke.shape)\n",
    "print(time_luke[-1])"
   ]
  },
  {
   "cell_type": "code",
   "execution_count": null,
   "metadata": {},
   "outputs": [],
   "source": [
    "#Import temporal average function \n",
    "from mean_temporal_masked_data import mean_mask_t\n",
    "\n",
    "#find indices of time to average from Jan 1st, 1993 to Dec 31st, 2015\n",
    "ind_i = np.nonzero(time_bia == time_luke[0])\n",
    "ind_f = np.nonzero(time_bia == time_luke[-367])\n",
    "ind_luke = np.where(time_luke == time_luke[-367])\n",
    "ind_i = ind_i[0]\n",
    "ind_f = ind_f[0]\n",
    "ind_luke = ind_luke[0]\n",
    "\n",
    "#appy indices\n",
    "swh_bia_c = swh_bia[ind_i[0]:ind_f[0],:,:]\n",
    "swh_luke_c = swh_luke[:ind_luke[0],:,:]\n",
    "\n",
    "\n",
    "#average both binned data sets \n",
    "bia_average = mean_mask_t(data = swh_bia_c) \n",
    "luke_average = mean_mask_t(data = swh_luke_c)\n"
   ]
  },
  {
   "cell_type": "markdown",
   "metadata": {},
   "source": [
    "Plot average for both data sets"
   ]
  },
  {
   "cell_type": "code",
   "execution_count": null,
   "metadata": {},
   "outputs": [],
   "source": [
    "#plot\n",
    "plt.figure(figsize=(15,8))\n",
    "plt.suptitle('Comparison of Averaged Bia and my binned swhcor data from Jan 1st, 1993 to Dec 31st, 2015', fontsize = 20)\n",
    "\n",
    "#plot bia's data\n",
    "plt.subplot(211)\n",
    "plt.pcolor(lon_bia,lat_bia,bia_average,cmap = cm.Blues, vmin=0, vmax=4)\n",
    "plt.ylabel('latitude')\n",
    "cbar = plt.colorbar()\n",
    "plt.title('Bia Binned Data')\n",
    "\n",
    "#plot my data:\n",
    "plt.subplot(212)\n",
    "plt.pcolor(lon_luke,lat_luke,luke_average,cmap = cm.Blues, vmin=0, vmax=4)\n",
    "plt.xlabel('longitude')\n",
    "plt.ylabel('latitude')\n",
    "cbar = plt.colorbar()\n",
    "plt.title('Luke Binned Data')"
   ]
  },
  {
   "cell_type": "markdown",
   "metadata": {},
   "source": [
    "Plot a scatter plot"
   ]
  },
  {
   "cell_type": "code",
   "execution_count": null,
   "metadata": {},
   "outputs": [],
   "source": [
    "#print out entire array \n",
    "import sys\n",
    "np.set_printoptions(threshold=sys.maxsize)\n",
    "\n",
    "#set all masked values for each data set equal to each other:\n",
    "bia_average.mask =luke_average.mask \n",
    "\n",
    "#check sizes of data:\n",
    "#print(bia_average)\n",
    "#print(luke_average)\n",
    "\n",
    "#flatten both arrays:\n",
    "swh_bf = bia_average.compressed() \n",
    "swh_lf = luke_average.compressed()\n",
    "\n",
    "print(swh_bf.shape, swh_lf.shape)\n",
    "\n",
    "#consider only non-nan values \n",
    "inan_b = ~np.isnan(swh_bf)\n",
    "inan_l = ~np.isnan(swh_lf)\n",
    "inan = inan_b*inan_l\n",
    "\n",
    "\n",
    "\n",
    "#plot\n",
    "plt.figure(figsize=(12,10))\n",
    "plt.suptitle('Comparison of Bia and my binned swhcor data for the 1994-01-01',fontsize = 20)\n",
    "plt.scatter(swh_bf, swh_lf, c='#0504aa', s = 2, alpha=1)\n",
    "#plt.hist2d(swh_bf[inan], swh_lf[inan], bins = 100)\n",
    "plt.plot(np.arange(0,10,0.1),np.arange(0,10,0.1),'k')\n",
    "plt.xlim(left = 0, right = 6)\n",
    "plt.ylim(bottom = 0, top = 6)\n",
    "plt.xlabel('Bia Binned Data')\n",
    "plt.ylabel('Luke Binned Data')"
   ]
  },
  {
   "cell_type": "markdown",
   "metadata": {},
   "source": [
    "### Development Code: "
   ]
  },
  {
   "cell_type": "code",
   "execution_count": null,
   "metadata": {},
   "outputs": [],
   "source": [
    "swh_bia.shape"
   ]
  },
  {
   "cell_type": "code",
   "execution_count": null,
   "metadata": {},
   "outputs": [],
   "source": [
    "x = 3\n",
    "x += 10\n",
    "print(x)"
   ]
  },
  {
   "cell_type": "code",
   "execution_count": null,
   "metadata": {},
   "outputs": [],
   "source": [
    "print(time_luke[-365])\n",
    "ind_i = time_luke[0] == time_bia\n",
    "ind_f = time_luke[-367] == time_bia\n",
    "print(time_bia[ind_i], time_bia[ind_f])\n",
    "print(ind_i, ind_f)\n",
    "#swh_bia[ind_i:ind_f,:,:]\n",
    "\n",
    "ind_i = np.nonzero(time_bia == time_luke[0])\n",
    "ind_f = np.nonzero(time_bia == time_luke[-367])\n",
    "ind_luke = np.where(time_luke == time_luke[-367])\n",
    "print(ind_i[0],ind_f[0])\n",
    "ind_i = ind_i[0]\n",
    "ind_f = ind_f[0]\n",
    "ind_luke = ind_luke[0]\n",
    "swh_bia_c = swh_bia[ind_i[0]:ind_f[0],:,:]\n",
    "swh_luke_c = swh_luke[:ind_luke[0],:,:]\n",
    "\n",
    "print(swh_bia_c.shape, swh_luke_c.shape)"
   ]
  },
  {
   "cell_type": "code",
   "execution_count": null,
   "metadata": {},
   "outputs": [],
   "source": [
    "ind_test = np.where(time_bia == time_luke[-])\n",
    "print(ind_test[0])\n",
    "t = ind_test[0]\n",
    "print(t[0])"
   ]
  },
  {
   "cell_type": "code",
   "execution_count": null,
   "metadata": {},
   "outputs": [],
   "source": [
    "x = 3 \n",
    "y = x\n",
    "print(y)"
   ]
  },
  {
   "cell_type": "markdown",
   "metadata": {},
   "source": [
    "August 14, Wednesday at 12"
   ]
  },
  {
   "cell_type": "code",
   "execution_count": null,
   "metadata": {},
   "outputs": [],
   "source": []
  }
 ],
 "metadata": {
  "kernelspec": {
   "display_name": "Python 3",
   "language": "python",
   "name": "python3"
  },
  "language_info": {
   "codemirror_mode": {
    "name": "ipython",
    "version": 3
   },
   "file_extension": ".py",
   "mimetype": "text/x-python",
   "name": "python",
   "nbconvert_exporter": "python",
   "pygments_lexer": "ipython3",
   "version": "3.7.3"
  }
 },
 "nbformat": 4,
 "nbformat_minor": 2
}
